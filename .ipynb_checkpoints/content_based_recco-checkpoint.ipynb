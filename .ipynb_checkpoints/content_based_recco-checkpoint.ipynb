{
 "cells": [
  {
   "cell_type": "code",
   "execution_count": 7,
   "id": "700ac686-4ed8-4ab7-8340-987265322a01",
   "metadata": {},
   "outputs": [],
   "source": [
    "import numpy as np\n",
    "import pandas as pd"
   ]
  },
  {
   "cell_type": "code",
   "execution_count": 9,
   "id": "5e60a3e1-a7b9-449c-84c7-313ca129f7e0",
   "metadata": {},
   "outputs": [
    {
     "ename": "FileNotFoundError",
     "evalue": "[Errno 2] No such file or directory: 'tmdb_5000_movies.csv'",
     "output_type": "error",
     "traceback": [
      "\u001b[1;31m---------------------------------------------------------------------------\u001b[0m",
      "\u001b[1;31mFileNotFoundError\u001b[0m                         Traceback (most recent call last)",
      "Cell \u001b[1;32mIn[9], line 1\u001b[0m\n\u001b[1;32m----> 1\u001b[0m movies \u001b[38;5;241m=\u001b[39m pd\u001b[38;5;241m.\u001b[39mread_csv(\u001b[38;5;124m'\u001b[39m\u001b[38;5;124mtmdb_5000_movies.csv\u001b[39m\u001b[38;5;124m'\u001b[39m)\n\u001b[0;32m      2\u001b[0m credits \u001b[38;5;241m=\u001b[39m pd\u001b[38;5;241m.\u001b[39mread_csv(\u001b[38;5;124m'\u001b[39m\u001b[38;5;124mtmdb_5000_credits.csv\u001b[39m\u001b[38;5;124m'\u001b[39m)\n",
      "File \u001b[1;32mC:\\ProgramData\\anaconda3\\Lib\\site-packages\\pandas\\io\\parsers\\readers.py:1026\u001b[0m, in \u001b[0;36mread_csv\u001b[1;34m(filepath_or_buffer, sep, delimiter, header, names, index_col, usecols, dtype, engine, converters, true_values, false_values, skipinitialspace, skiprows, skipfooter, nrows, na_values, keep_default_na, na_filter, verbose, skip_blank_lines, parse_dates, infer_datetime_format, keep_date_col, date_parser, date_format, dayfirst, cache_dates, iterator, chunksize, compression, thousands, decimal, lineterminator, quotechar, quoting, doublequote, escapechar, comment, encoding, encoding_errors, dialect, on_bad_lines, delim_whitespace, low_memory, memory_map, float_precision, storage_options, dtype_backend)\u001b[0m\n\u001b[0;32m   1013\u001b[0m kwds_defaults \u001b[38;5;241m=\u001b[39m _refine_defaults_read(\n\u001b[0;32m   1014\u001b[0m     dialect,\n\u001b[0;32m   1015\u001b[0m     delimiter,\n\u001b[1;32m   (...)\u001b[0m\n\u001b[0;32m   1022\u001b[0m     dtype_backend\u001b[38;5;241m=\u001b[39mdtype_backend,\n\u001b[0;32m   1023\u001b[0m )\n\u001b[0;32m   1024\u001b[0m kwds\u001b[38;5;241m.\u001b[39mupdate(kwds_defaults)\n\u001b[1;32m-> 1026\u001b[0m \u001b[38;5;28;01mreturn\u001b[39;00m _read(filepath_or_buffer, kwds)\n",
      "File \u001b[1;32mC:\\ProgramData\\anaconda3\\Lib\\site-packages\\pandas\\io\\parsers\\readers.py:620\u001b[0m, in \u001b[0;36m_read\u001b[1;34m(filepath_or_buffer, kwds)\u001b[0m\n\u001b[0;32m    617\u001b[0m _validate_names(kwds\u001b[38;5;241m.\u001b[39mget(\u001b[38;5;124m\"\u001b[39m\u001b[38;5;124mnames\u001b[39m\u001b[38;5;124m\"\u001b[39m, \u001b[38;5;28;01mNone\u001b[39;00m))\n\u001b[0;32m    619\u001b[0m \u001b[38;5;66;03m# Create the parser.\u001b[39;00m\n\u001b[1;32m--> 620\u001b[0m parser \u001b[38;5;241m=\u001b[39m TextFileReader(filepath_or_buffer, \u001b[38;5;241m*\u001b[39m\u001b[38;5;241m*\u001b[39mkwds)\n\u001b[0;32m    622\u001b[0m \u001b[38;5;28;01mif\u001b[39;00m chunksize \u001b[38;5;129;01mor\u001b[39;00m iterator:\n\u001b[0;32m    623\u001b[0m     \u001b[38;5;28;01mreturn\u001b[39;00m parser\n",
      "File \u001b[1;32mC:\\ProgramData\\anaconda3\\Lib\\site-packages\\pandas\\io\\parsers\\readers.py:1620\u001b[0m, in \u001b[0;36mTextFileReader.__init__\u001b[1;34m(self, f, engine, **kwds)\u001b[0m\n\u001b[0;32m   1617\u001b[0m     \u001b[38;5;28mself\u001b[39m\u001b[38;5;241m.\u001b[39moptions[\u001b[38;5;124m\"\u001b[39m\u001b[38;5;124mhas_index_names\u001b[39m\u001b[38;5;124m\"\u001b[39m] \u001b[38;5;241m=\u001b[39m kwds[\u001b[38;5;124m\"\u001b[39m\u001b[38;5;124mhas_index_names\u001b[39m\u001b[38;5;124m\"\u001b[39m]\n\u001b[0;32m   1619\u001b[0m \u001b[38;5;28mself\u001b[39m\u001b[38;5;241m.\u001b[39mhandles: IOHandles \u001b[38;5;241m|\u001b[39m \u001b[38;5;28;01mNone\u001b[39;00m \u001b[38;5;241m=\u001b[39m \u001b[38;5;28;01mNone\u001b[39;00m\n\u001b[1;32m-> 1620\u001b[0m \u001b[38;5;28mself\u001b[39m\u001b[38;5;241m.\u001b[39m_engine \u001b[38;5;241m=\u001b[39m \u001b[38;5;28mself\u001b[39m\u001b[38;5;241m.\u001b[39m_make_engine(f, \u001b[38;5;28mself\u001b[39m\u001b[38;5;241m.\u001b[39mengine)\n",
      "File \u001b[1;32mC:\\ProgramData\\anaconda3\\Lib\\site-packages\\pandas\\io\\parsers\\readers.py:1880\u001b[0m, in \u001b[0;36mTextFileReader._make_engine\u001b[1;34m(self, f, engine)\u001b[0m\n\u001b[0;32m   1878\u001b[0m     \u001b[38;5;28;01mif\u001b[39;00m \u001b[38;5;124m\"\u001b[39m\u001b[38;5;124mb\u001b[39m\u001b[38;5;124m\"\u001b[39m \u001b[38;5;129;01mnot\u001b[39;00m \u001b[38;5;129;01min\u001b[39;00m mode:\n\u001b[0;32m   1879\u001b[0m         mode \u001b[38;5;241m+\u001b[39m\u001b[38;5;241m=\u001b[39m \u001b[38;5;124m\"\u001b[39m\u001b[38;5;124mb\u001b[39m\u001b[38;5;124m\"\u001b[39m\n\u001b[1;32m-> 1880\u001b[0m \u001b[38;5;28mself\u001b[39m\u001b[38;5;241m.\u001b[39mhandles \u001b[38;5;241m=\u001b[39m get_handle(\n\u001b[0;32m   1881\u001b[0m     f,\n\u001b[0;32m   1882\u001b[0m     mode,\n\u001b[0;32m   1883\u001b[0m     encoding\u001b[38;5;241m=\u001b[39m\u001b[38;5;28mself\u001b[39m\u001b[38;5;241m.\u001b[39moptions\u001b[38;5;241m.\u001b[39mget(\u001b[38;5;124m\"\u001b[39m\u001b[38;5;124mencoding\u001b[39m\u001b[38;5;124m\"\u001b[39m, \u001b[38;5;28;01mNone\u001b[39;00m),\n\u001b[0;32m   1884\u001b[0m     compression\u001b[38;5;241m=\u001b[39m\u001b[38;5;28mself\u001b[39m\u001b[38;5;241m.\u001b[39moptions\u001b[38;5;241m.\u001b[39mget(\u001b[38;5;124m\"\u001b[39m\u001b[38;5;124mcompression\u001b[39m\u001b[38;5;124m\"\u001b[39m, \u001b[38;5;28;01mNone\u001b[39;00m),\n\u001b[0;32m   1885\u001b[0m     memory_map\u001b[38;5;241m=\u001b[39m\u001b[38;5;28mself\u001b[39m\u001b[38;5;241m.\u001b[39moptions\u001b[38;5;241m.\u001b[39mget(\u001b[38;5;124m\"\u001b[39m\u001b[38;5;124mmemory_map\u001b[39m\u001b[38;5;124m\"\u001b[39m, \u001b[38;5;28;01mFalse\u001b[39;00m),\n\u001b[0;32m   1886\u001b[0m     is_text\u001b[38;5;241m=\u001b[39mis_text,\n\u001b[0;32m   1887\u001b[0m     errors\u001b[38;5;241m=\u001b[39m\u001b[38;5;28mself\u001b[39m\u001b[38;5;241m.\u001b[39moptions\u001b[38;5;241m.\u001b[39mget(\u001b[38;5;124m\"\u001b[39m\u001b[38;5;124mencoding_errors\u001b[39m\u001b[38;5;124m\"\u001b[39m, \u001b[38;5;124m\"\u001b[39m\u001b[38;5;124mstrict\u001b[39m\u001b[38;5;124m\"\u001b[39m),\n\u001b[0;32m   1888\u001b[0m     storage_options\u001b[38;5;241m=\u001b[39m\u001b[38;5;28mself\u001b[39m\u001b[38;5;241m.\u001b[39moptions\u001b[38;5;241m.\u001b[39mget(\u001b[38;5;124m\"\u001b[39m\u001b[38;5;124mstorage_options\u001b[39m\u001b[38;5;124m\"\u001b[39m, \u001b[38;5;28;01mNone\u001b[39;00m),\n\u001b[0;32m   1889\u001b[0m )\n\u001b[0;32m   1890\u001b[0m \u001b[38;5;28;01massert\u001b[39;00m \u001b[38;5;28mself\u001b[39m\u001b[38;5;241m.\u001b[39mhandles \u001b[38;5;129;01mis\u001b[39;00m \u001b[38;5;129;01mnot\u001b[39;00m \u001b[38;5;28;01mNone\u001b[39;00m\n\u001b[0;32m   1891\u001b[0m f \u001b[38;5;241m=\u001b[39m \u001b[38;5;28mself\u001b[39m\u001b[38;5;241m.\u001b[39mhandles\u001b[38;5;241m.\u001b[39mhandle\n",
      "File \u001b[1;32mC:\\ProgramData\\anaconda3\\Lib\\site-packages\\pandas\\io\\common.py:873\u001b[0m, in \u001b[0;36mget_handle\u001b[1;34m(path_or_buf, mode, encoding, compression, memory_map, is_text, errors, storage_options)\u001b[0m\n\u001b[0;32m    868\u001b[0m \u001b[38;5;28;01melif\u001b[39;00m \u001b[38;5;28misinstance\u001b[39m(handle, \u001b[38;5;28mstr\u001b[39m):\n\u001b[0;32m    869\u001b[0m     \u001b[38;5;66;03m# Check whether the filename is to be opened in binary mode.\u001b[39;00m\n\u001b[0;32m    870\u001b[0m     \u001b[38;5;66;03m# Binary mode does not support 'encoding' and 'newline'.\u001b[39;00m\n\u001b[0;32m    871\u001b[0m     \u001b[38;5;28;01mif\u001b[39;00m ioargs\u001b[38;5;241m.\u001b[39mencoding \u001b[38;5;129;01mand\u001b[39;00m \u001b[38;5;124m\"\u001b[39m\u001b[38;5;124mb\u001b[39m\u001b[38;5;124m\"\u001b[39m \u001b[38;5;129;01mnot\u001b[39;00m \u001b[38;5;129;01min\u001b[39;00m ioargs\u001b[38;5;241m.\u001b[39mmode:\n\u001b[0;32m    872\u001b[0m         \u001b[38;5;66;03m# Encoding\u001b[39;00m\n\u001b[1;32m--> 873\u001b[0m         handle \u001b[38;5;241m=\u001b[39m \u001b[38;5;28mopen\u001b[39m(\n\u001b[0;32m    874\u001b[0m             handle,\n\u001b[0;32m    875\u001b[0m             ioargs\u001b[38;5;241m.\u001b[39mmode,\n\u001b[0;32m    876\u001b[0m             encoding\u001b[38;5;241m=\u001b[39mioargs\u001b[38;5;241m.\u001b[39mencoding,\n\u001b[0;32m    877\u001b[0m             errors\u001b[38;5;241m=\u001b[39merrors,\n\u001b[0;32m    878\u001b[0m             newline\u001b[38;5;241m=\u001b[39m\u001b[38;5;124m\"\u001b[39m\u001b[38;5;124m\"\u001b[39m,\n\u001b[0;32m    879\u001b[0m         )\n\u001b[0;32m    880\u001b[0m     \u001b[38;5;28;01melse\u001b[39;00m:\n\u001b[0;32m    881\u001b[0m         \u001b[38;5;66;03m# Binary mode\u001b[39;00m\n\u001b[0;32m    882\u001b[0m         handle \u001b[38;5;241m=\u001b[39m \u001b[38;5;28mopen\u001b[39m(handle, ioargs\u001b[38;5;241m.\u001b[39mmode)\n",
      "\u001b[1;31mFileNotFoundError\u001b[0m: [Errno 2] No such file or directory: 'tmdb_5000_movies.csv'"
     ]
    }
   ],
   "source": [
    "movies = pd.read_csv('tmdb_5000_movies.csv')\n",
    "credits = pd.read_csv('tmdb_5000_credits.csv')"
   ]
  },
  {
   "cell_type": "code",
   "execution_count": 176,
   "id": "4188ed01-ba11-4e35-8981-bca67ead8d17",
   "metadata": {},
   "outputs": [],
   "source": [
    "movies = movies.merge(credits, on = 'title')"
   ]
  },
  {
   "cell_type": "code",
   "execution_count": 177,
   "id": "ed15168a-e165-4507-8bf1-063ef29edc8e",
   "metadata": {},
   "outputs": [],
   "source": [
    "movies = movies[['movie_id', 'title', 'overview', 'keywords', 'genres', 'cast', 'crew']]"
   ]
  },
  {
   "cell_type": "markdown",
   "id": "9afb1bd5-e277-42b5-9a1c-c4cfa9c8fac5",
   "metadata": {},
   "source": [
    "Data Preprocessing"
   ]
  },
  {
   "cell_type": "code",
   "execution_count": 178,
   "id": "ab6890e4-3573-44d4-ae21-449ce67d6db4",
   "metadata": {},
   "outputs": [
    {
     "data": {
      "text/plain": [
       "movie_id    0\n",
       "title       0\n",
       "overview    3\n",
       "keywords    0\n",
       "genres      0\n",
       "cast        0\n",
       "crew        0\n",
       "dtype: int64"
      ]
     },
     "execution_count": 178,
     "metadata": {},
     "output_type": "execute_result"
    }
   ],
   "source": [
    "movies.isnull().sum()"
   ]
  },
  {
   "cell_type": "code",
   "execution_count": 179,
   "id": "761a4ade-2d2b-4c07-9343-22cad68a9831",
   "metadata": {},
   "outputs": [],
   "source": [
    "movies.dropna(inplace = True)"
   ]
  },
  {
   "cell_type": "code",
   "execution_count": 180,
   "id": "580fb9c8-4137-4c21-82ba-3dfaa759cae5",
   "metadata": {},
   "outputs": [
    {
     "data": {
      "text/plain": [
       "0"
      ]
     },
     "execution_count": 180,
     "metadata": {},
     "output_type": "execute_result"
    }
   ],
   "source": [
    "movies.duplicated().sum()"
   ]
  },
  {
   "cell_type": "code",
   "execution_count": 181,
   "id": "dd3ff6ea-fe46-45fb-a744-35135ee6cc54",
   "metadata": {},
   "outputs": [],
   "source": [
    "import ast"
   ]
  },
  {
   "cell_type": "code",
   "execution_count": 182,
   "id": "6158bff6-515c-4d3e-8b67-142cd03a1d5c",
   "metadata": {},
   "outputs": [],
   "source": [
    "def convert(obj):\n",
    "    l = []\n",
    "    for i in ast.literal_eval(obj):\n",
    "        l.append(i['name'].replace(\" \", \"\"))\n",
    "    return l"
   ]
  },
  {
   "cell_type": "code",
   "execution_count": 183,
   "id": "53339c74-1d48-4c0a-80eb-ca6341f25db1",
   "metadata": {},
   "outputs": [],
   "source": [
    "movies['genres'] = movies['genres'].apply(convert)"
   ]
  },
  {
   "cell_type": "code",
   "execution_count": 184,
   "id": "651faa50-90ca-4917-96f8-3929daebd862",
   "metadata": {},
   "outputs": [],
   "source": [
    "movies['keywords'] = movies['keywords'].apply(convert)"
   ]
  },
  {
   "cell_type": "code",
   "execution_count": 185,
   "id": "7292f557-8b92-4187-a617-31828d22f0d0",
   "metadata": {},
   "outputs": [],
   "source": [
    "def convert3(obj):\n",
    "    l = []\n",
    "    count = 1\n",
    "    for i in ast.literal_eval(obj):\n",
    "        if count < 4:\n",
    "            l.append(i['name'].replace(\" \", \"\"))\n",
    "            count += 1\n",
    "        else:\n",
    "            break\n",
    "    return l"
   ]
  },
  {
   "cell_type": "code",
   "execution_count": 186,
   "id": "cd920640-72a3-49d4-bda6-6f535b6b146e",
   "metadata": {},
   "outputs": [],
   "source": [
    "movies['cast'] = movies['cast'].apply(convert3)"
   ]
  },
  {
   "cell_type": "code",
   "execution_count": 187,
   "id": "6fa20b43-c912-4699-b5ab-38bfb0c144d8",
   "metadata": {},
   "outputs": [],
   "source": [
    "def fetch_director(obj):\n",
    "    l = []\n",
    "    for i in ast.literal_eval(obj):\n",
    "        if i['job'] == 'Director':\n",
    "            l.append(i['name'].replace(\" \", \"\"))\n",
    "            break\n",
    "    return l"
   ]
  },
  {
   "cell_type": "code",
   "execution_count": 188,
   "id": "1eff0dc1-448e-4944-a26b-ec11c824345c",
   "metadata": {},
   "outputs": [],
   "source": [
    "movies['crew'] = movies['crew'].apply(fetch_director)"
   ]
  },
  {
   "cell_type": "code",
   "execution_count": 189,
   "id": "ed10a8f2-0781-4db5-a64a-aaa331efcb9c",
   "metadata": {},
   "outputs": [],
   "source": [
    "movies['overview'] = movies['overview'].apply(lambda x:x.split())"
   ]
  },
  {
   "cell_type": "code",
   "execution_count": 190,
   "id": "48871307-5ddf-48b2-80a9-9fbae0119af3",
   "metadata": {},
   "outputs": [],
   "source": [
    "movies['tags'] = movies['overview'] + movies['keywords'] + movies['genres'] + movies['cast'] + movies['crew']"
   ]
  },
  {
   "cell_type": "code",
   "execution_count": 191,
   "id": "c73cfdf8-3a29-4f0c-81e0-4fdf0e9bf706",
   "metadata": {},
   "outputs": [],
   "source": [
    "new_df = movies[['movie_id', 'title', 'tags']]"
   ]
  },
  {
   "cell_type": "code",
   "execution_count": 192,
   "id": "9fcdc1fe-10e8-4d19-9e15-e1efd1c51973",
   "metadata": {},
   "outputs": [
    {
     "data": {
      "text/html": [
       "<div>\n",
       "<style scoped>\n",
       "    .dataframe tbody tr th:only-of-type {\n",
       "        vertical-align: middle;\n",
       "    }\n",
       "\n",
       "    .dataframe tbody tr th {\n",
       "        vertical-align: top;\n",
       "    }\n",
       "\n",
       "    .dataframe thead th {\n",
       "        text-align: right;\n",
       "    }\n",
       "</style>\n",
       "<table border=\"1\" class=\"dataframe\">\n",
       "  <thead>\n",
       "    <tr style=\"text-align: right;\">\n",
       "      <th></th>\n",
       "      <th>movie_id</th>\n",
       "      <th>title</th>\n",
       "      <th>tags</th>\n",
       "    </tr>\n",
       "  </thead>\n",
       "  <tbody>\n",
       "    <tr>\n",
       "      <th>0</th>\n",
       "      <td>19995</td>\n",
       "      <td>Avatar</td>\n",
       "      <td>[In, the, 22nd, century,, a, paraplegic, Marin...</td>\n",
       "    </tr>\n",
       "    <tr>\n",
       "      <th>1</th>\n",
       "      <td>285</td>\n",
       "      <td>Pirates of the Caribbean: At World's End</td>\n",
       "      <td>[Captain, Barbossa,, long, believed, to, be, d...</td>\n",
       "    </tr>\n",
       "    <tr>\n",
       "      <th>2</th>\n",
       "      <td>206647</td>\n",
       "      <td>Spectre</td>\n",
       "      <td>[A, cryptic, message, from, Bond’s, past, send...</td>\n",
       "    </tr>\n",
       "    <tr>\n",
       "      <th>3</th>\n",
       "      <td>49026</td>\n",
       "      <td>The Dark Knight Rises</td>\n",
       "      <td>[Following, the, death, of, District, Attorney...</td>\n",
       "    </tr>\n",
       "    <tr>\n",
       "      <th>4</th>\n",
       "      <td>49529</td>\n",
       "      <td>John Carter</td>\n",
       "      <td>[John, Carter, is, a, war-weary,, former, mili...</td>\n",
       "    </tr>\n",
       "    <tr>\n",
       "      <th>...</th>\n",
       "      <td>...</td>\n",
       "      <td>...</td>\n",
       "      <td>...</td>\n",
       "    </tr>\n",
       "    <tr>\n",
       "      <th>4804</th>\n",
       "      <td>9367</td>\n",
       "      <td>El Mariachi</td>\n",
       "      <td>[El, Mariachi, just, wants, to, play, his, gui...</td>\n",
       "    </tr>\n",
       "    <tr>\n",
       "      <th>4805</th>\n",
       "      <td>72766</td>\n",
       "      <td>Newlyweds</td>\n",
       "      <td>[A, newlywed, couple's, honeymoon, is, upended...</td>\n",
       "    </tr>\n",
       "    <tr>\n",
       "      <th>4806</th>\n",
       "      <td>231617</td>\n",
       "      <td>Signed, Sealed, Delivered</td>\n",
       "      <td>[\"Signed,, Sealed,, Delivered\", introduces, a,...</td>\n",
       "    </tr>\n",
       "    <tr>\n",
       "      <th>4807</th>\n",
       "      <td>126186</td>\n",
       "      <td>Shanghai Calling</td>\n",
       "      <td>[When, ambitious, New, York, attorney, Sam, is...</td>\n",
       "    </tr>\n",
       "    <tr>\n",
       "      <th>4808</th>\n",
       "      <td>25975</td>\n",
       "      <td>My Date with Drew</td>\n",
       "      <td>[Ever, since, the, second, grade, when, he, fi...</td>\n",
       "    </tr>\n",
       "  </tbody>\n",
       "</table>\n",
       "<p>4806 rows × 3 columns</p>\n",
       "</div>"
      ],
      "text/plain": [
       "      movie_id                                     title  \\\n",
       "0        19995                                    Avatar   \n",
       "1          285  Pirates of the Caribbean: At World's End   \n",
       "2       206647                                   Spectre   \n",
       "3        49026                     The Dark Knight Rises   \n",
       "4        49529                               John Carter   \n",
       "...        ...                                       ...   \n",
       "4804      9367                               El Mariachi   \n",
       "4805     72766                                 Newlyweds   \n",
       "4806    231617                 Signed, Sealed, Delivered   \n",
       "4807    126186                          Shanghai Calling   \n",
       "4808     25975                         My Date with Drew   \n",
       "\n",
       "                                                   tags  \n",
       "0     [In, the, 22nd, century,, a, paraplegic, Marin...  \n",
       "1     [Captain, Barbossa,, long, believed, to, be, d...  \n",
       "2     [A, cryptic, message, from, Bond’s, past, send...  \n",
       "3     [Following, the, death, of, District, Attorney...  \n",
       "4     [John, Carter, is, a, war-weary,, former, mili...  \n",
       "...                                                 ...  \n",
       "4804  [El, Mariachi, just, wants, to, play, his, gui...  \n",
       "4805  [A, newlywed, couple's, honeymoon, is, upended...  \n",
       "4806  [\"Signed,, Sealed,, Delivered\", introduces, a,...  \n",
       "4807  [When, ambitious, New, York, attorney, Sam, is...  \n",
       "4808  [Ever, since, the, second, grade, when, he, fi...  \n",
       "\n",
       "[4806 rows x 3 columns]"
      ]
     },
     "execution_count": 192,
     "metadata": {},
     "output_type": "execute_result"
    }
   ],
   "source": [
    "new_df"
   ]
  },
  {
   "cell_type": "code",
   "execution_count": 194,
   "id": "8218f0cc-f1a8-44eb-bf39-0d053030491a",
   "metadata": {},
   "outputs": [
    {
     "name": "stderr",
     "output_type": "stream",
     "text": [
      "C:\\Users\\Dell\\AppData\\Local\\Temp\\ipykernel_13764\\3089450492.py:1: SettingWithCopyWarning: \n",
      "A value is trying to be set on a copy of a slice from a DataFrame.\n",
      "Try using .loc[row_indexer,col_indexer] = value instead\n",
      "\n",
      "See the caveats in the documentation: https://pandas.pydata.org/pandas-docs/stable/user_guide/indexing.html#returning-a-view-versus-a-copy\n",
      "  new_df['tags'] = new_df['tags'].apply(lambda x:\" \".join(x))\n"
     ]
    }
   ],
   "source": [
    "new_df['tags'] = new_df['tags'].apply(lambda x:\" \".join(x))"
   ]
  },
  {
   "cell_type": "code",
   "execution_count": 198,
   "id": "a89c9efb-7341-4a23-a1d3-aa16b720981d",
   "metadata": {},
   "outputs": [
    {
     "name": "stderr",
     "output_type": "stream",
     "text": [
      "C:\\Users\\Dell\\AppData\\Local\\Temp\\ipykernel_13764\\3214958533.py:1: SettingWithCopyWarning: \n",
      "A value is trying to be set on a copy of a slice from a DataFrame.\n",
      "Try using .loc[row_indexer,col_indexer] = value instead\n",
      "\n",
      "See the caveats in the documentation: https://pandas.pydata.org/pandas-docs/stable/user_guide/indexing.html#returning-a-view-versus-a-copy\n",
      "  new_df['tags'] = new_df['tags'].apply(lambda x:x.lower())\n"
     ]
    }
   ],
   "source": [
    "new_df['tags'] = new_df['tags'].apply(lambda x:x.lower())"
   ]
  },
  {
   "cell_type": "code",
   "execution_count": 219,
   "id": "8ee1be34-2702-4f54-810f-840a70be6b6a",
   "metadata": {},
   "outputs": [],
   "source": [
    "from nltk.stem.porter import PorterStemmer\n",
    "ps = PorterStemmer()"
   ]
  },
  {
   "cell_type": "code",
   "execution_count": 221,
   "id": "e2366eb8-5b3c-4be6-8f70-b8afe50dc449",
   "metadata": {},
   "outputs": [],
   "source": [
    "def stem(text):\n",
    "    y = []\n",
    "\n",
    "    for i in text.split():\n",
    "        y.append(ps.stem(i))\n",
    "\n",
    "    return \" \".join(y)"
   ]
  },
  {
   "cell_type": "code",
   "execution_count": 223,
   "id": "8c1e9b10-9d67-4337-ad87-e0c4f98d15eb",
   "metadata": {},
   "outputs": [
    {
     "name": "stderr",
     "output_type": "stream",
     "text": [
      "C:\\Users\\Dell\\AppData\\Local\\Temp\\ipykernel_13764\\3213734980.py:1: SettingWithCopyWarning: \n",
      "A value is trying to be set on a copy of a slice from a DataFrame.\n",
      "Try using .loc[row_indexer,col_indexer] = value instead\n",
      "\n",
      "See the caveats in the documentation: https://pandas.pydata.org/pandas-docs/stable/user_guide/indexing.html#returning-a-view-versus-a-copy\n",
      "  new_df['tags'] = new_df['tags'].apply(stem)\n"
     ]
    }
   ],
   "source": [
    "new_df['tags'] = new_df['tags'].apply(stem)"
   ]
  },
  {
   "cell_type": "code",
   "execution_count": 224,
   "id": "da0b9ce5-c93e-45a9-9a3b-7537a9828350",
   "metadata": {},
   "outputs": [
    {
     "data": {
      "text/plain": [
       "'in the 22nd century, a parapleg marin is dispatch to the moon pandora on a uniqu mission, but becom torn between follow order and protect an alien civilization. cultureclash futur spacewar spacecoloni societi spacetravel futurist romanc space alien tribe alienplanet cgi marin soldier battl loveaffair antiwar powerrel mindandsoul 3d action adventur fantasi sciencefict samworthington zoesaldana sigourneyweav jamescameron'"
      ]
     },
     "execution_count": 224,
     "metadata": {},
     "output_type": "execute_result"
    }
   ],
   "source": [
    "new_df['tags'][0]"
   ]
  },
  {
   "cell_type": "markdown",
   "id": "bd7e5e68-8e53-402b-8fe4-e39685ec5c72",
   "metadata": {},
   "source": [
    "Model Building"
   ]
  },
  {
   "cell_type": "markdown",
   "id": "22965c4a-160b-4a6d-b487-655b7d8b4634",
   "metadata": {},
   "source": [
    "- Vectorization"
   ]
  },
  {
   "cell_type": "code",
   "execution_count": 225,
   "id": "e036c7af-1a22-4b29-9cbd-b586e105bf31",
   "metadata": {},
   "outputs": [],
   "source": [
    "from sklearn.feature_extraction.text import CountVectorizer\n",
    "cv = CountVectorizer(max_features = 5000, stop_words = 'english')"
   ]
  },
  {
   "cell_type": "code",
   "execution_count": 226,
   "id": "a55af2ad-0662-498a-8ff1-b71824e428eb",
   "metadata": {},
   "outputs": [],
   "source": [
    "vectors = cv.fit_transform(new_df['tags']).toarray()"
   ]
  },
  {
   "cell_type": "code",
   "execution_count": 227,
   "id": "d68cdc35-d5ca-4bd5-b009-789d9e0bd2fd",
   "metadata": {},
   "outputs": [
    {
     "data": {
      "text/plain": [
       "array([[0, 0, 0, ..., 0, 0, 0],\n",
       "       [0, 0, 0, ..., 0, 0, 0],\n",
       "       [0, 0, 0, ..., 0, 0, 0],\n",
       "       ...,\n",
       "       [0, 0, 0, ..., 0, 0, 0],\n",
       "       [0, 0, 0, ..., 0, 0, 0],\n",
       "       [0, 0, 0, ..., 0, 0, 0]], dtype=int64)"
      ]
     },
     "execution_count": 227,
     "metadata": {},
     "output_type": "execute_result"
    }
   ],
   "source": [
    "vectors"
   ]
  },
  {
   "cell_type": "code",
   "execution_count": 228,
   "id": "3365787b-d8b5-4986-b00d-2e4d42db08e4",
   "metadata": {
    "scrolled": true
   },
   "outputs": [
    {
     "name": "stdout",
     "output_type": "stream",
     "text": [
      "['000', '007', '10', '100', '11', '12', '13', '14', '15', '16', '17', '17th', '18', '18th', '18thcenturi', '19', '1910', '1920', '1930', '1940', '1944', '1950', '1950s', '1960', '1960s', '1970', '1970s', '1971', '1974', '1976', '1980', '1985', '1990', '1999', '19th', '19thcenturi', '20', '200', '2003', '2009', '20th', '21st', '23', '24', '25', '30', '300', '3d', '40', '50', '500', '60', '70', '80', 'aaron', 'aaroneckhart', 'abandon', 'abduct', 'abigailbreslin', 'abil', 'abl', 'aboard', 'abov', 'abus', 'academ', 'academi', 'accept', 'access', 'accid', 'accident', 'acclaim', 'accompani', 'accomplish', 'account', 'accus', 'ace', 'achiev', 'acquaint', 'act', 'action', 'actionhero', 'activ', 'activist', 'activities', 'actor', 'actress', 'actual', 'ad', 'adam', 'adamsandl', 'adamshankman', 'adapt', 'add', 'addict', 'adjust', 'admir', 'admit', 'adolesc', 'adopt', 'ador', 'adrienbrodi', 'adult', 'adultanim', 'adulteri', 'adulthood', 'advanc', 'adventur', 'adventure', 'adventures', 'advertis', 'advic', 'advis', 'affair', 'affect', 'afghanistan', 'africa', 'african', 'africanamerican', 'aftercreditssting', 'afterlif', 'aftermath', 'ag', 'age', 'agediffer', 'agenc', 'agency', 'agenda', 'agent', 'agents', 'aggress', 'ago', 'agre', 'ahead', 'aid', 'aidanquinn', 'ail', 'aim', 'air', 'airplan', 'airplanecrash', 'airport', 'aka', 'al', 'alabama', 'alan', 'alaska', 'albert', 'alcatraz', 'alcohol', 'alecbaldwin', 'alex', 'alexkendrick', 'alfredhitchcock', 'alfredmolina', 'ali', 'alic', 'alice', 'alien', 'alieninvas', 'alienlife', 'alienplanet', 'aliens', 'alik', 'aliv', 'alive', 'allen', 'alli', 'allianc', 'allow', 'alon', 'alongsid', 'alpacino', 'alpha', 'alreadi', 'alter', 'altern', 'alway', 'alyssa', 'alzheimer', 'amanda', 'amandapeet', 'amandaseyfri', 'amateur', 'amaz', 'amazon', 'ambassador', 'ambit', 'ambiti', 'ambul', 'ambush', 'america', 'american', 'americanabroad', 'americancivilwar', 'americanfootbal', 'americanfootballplay', 'amid', 'amidst', 'amnesia', 'amp', 'amsterdam', 'amus', 'amusementpark', 'amy', 'amyadam', 'amysmart', 'ana', 'anakin', 'analyst', 'anarchiccomedi', 'ancient', 'ancientrom', 'ancientworld', 'anderson', 'andi', 'andiemacdowel', 'andrew', 'android', 'andy', 'andygarcía', 'angel', 'angela', 'angelabassett', 'angeles', 'angelinajoli', 'anger', 'angle', 'angri', 'ani', 'anim', 'animalattack', 'animalhorror', 'animals', 'anjelicahuston', 'ann', 'anna', 'annafari', 'annakendrick', 'anne', 'annehathaway', 'annemoss', 'annetteben', 'anni', 'annie', 'anniversari', 'announc', 'annual', 'anonym', 'anoth', 'answer', 'ant', 'antholog', 'anthoni', 'anthonyanderson', 'anthonyhopkin', 'anthropomorph', 'anti', 'antic', 'antihero', 'antiqu', 'antoinefuqua', 'antoniobandera', 'antonyelchin', 'anyon', 'anyth', 'apart', 'apartheid', 'apartment', 'ape', 'apocalyps', 'apocalypse', 'apocalypt', 'appar', 'appear', 'appl', 'apple', 'appoint', 'appreci', 'apprentic', 'approach', 'april', 'aquarium', 'arab', 'arch', 'archaeologist', 'archeolog', 'archer', 'architect', 'arctic', 'area', 'aren', 'arena', 'argument', 'aris', 'aristocrat', 'arm', 'armi', 'armor', 'armsdeal', 'army', 'arnold', 'arnoldschwarzenegg', 'arrang', 'arrangedmarriag', 'arrest', 'arriv', 'arrog', 'art', 'arthur', 'artifact', 'artifici', 'artificialintellig', 'artist', 'ash', 'ashley', 'ashleyjudd', 'ashtonkutch', 'asia', 'asian', 'asid', 'ask', 'aspect', 'aspir', 'assassin', 'assault', 'assembl', 'assign', 'assist', 'assistant', 'associ', 'assum', 'asteroid', 'astronaut', 'asylum', 'atheist', 'athlet', 'atom', 'atomicbomb', 'attack', 'attacks', 'attempt', 'attend', 'attent', 'attic', 'attitud', 'attorney', 'attract', 'auction', 'audienc', 'audit', 'august', 'aunt', 'austin', 'australia', 'australian', 'author', 'autism', 'auto', 'automobilerac', 'aveng', 'averag', 'avoid', 'await', 'awak', 'awaken', 'awar', 'award', 'away', 'awkward', 'awri', 'awry', 'ax', 'babe', 'babi', 'baby', 'bachelor', 'backdrop', 'background', 'backpack', 'bad', 'bag', 'bahama', 'bail', 'balanc', 'ball', 'ballet', 'balloon', 'baltimor', 'ban', 'band', 'bandit', 'bangkok', 'banish', 'bank', 'banker', 'bankrobb', 'bankrobberi', 'bar', 'barbrastreisand', 'bare', 'bargain', 'barn', 'barney', 'baron', 'barri', 'barrylevinson', 'barrysonnenfeld', 'bas', 'base', 'basebal', 'basedoncomicbook', 'basedongraphicnovel', 'basedonnovel', 'basedonplay', 'basedonstagemus', 'basedontrueev', 'basedontruestori', 'basedontvseri', 'basedonvideogam', 'basedonyoungadultnovel', 'basement', 'basketbal', 'basketball', 'bat', 'batman', 'battl', 'battle', 'battlefield', 'bay', 'beach', 'beam', 'bear', 'beard', 'beast', 'beat', 'beauti', 'beautiful', 'beautifulwoman', 'beauty', 'becam', 'becaus', 'becki', 'becom', 'becominganadult', 'bed', 'bedroom', 'bee', 'beer', 'befor', 'befriend', 'began', 'begin', 'begins', 'behavior', 'belief', 'believ', 'bell', 'bella', 'belong', 'belov', 'ben', 'benaffleck', 'bend', 'beneath', 'benefit', 'benfost', 'beniciodeltoro', 'benjamin', 'benjaminbratt', 'benkingsley', 'bennett', 'benstil', 'bent', 'berlin', 'best', 'bestfriend', 'bestfriendsinlov', 'bet', 'beth', 'betray', 'bettemidl', 'better', 'betti', 'beverli', 'bibl', 'bid', 'big', 'bigger', 'biggest', 'bike', 'biker', 'bikini', 'billhad', 'billi', 'billionair', 'billmurray', 'billnighi', 'billpaxton', 'billpullman', 'billybobthornton', 'billycrudup', 'billycryst', 'biographi', 'biolog', 'bird', 'birth', 'birthday', 'bisexu', 'bishop', 'bit', 'bite', 'bitter', 'bizarr', 'black', 'blackmag', 'blackmail', 'blackpeopl', 'blacksmith', 'blade', 'blame', 'blend', 'blind', 'bliss', 'blizzard', 'block', 'blond', 'blood', 'bloodi', 'bloodsplatt', 'bloodthirsti', 'blow', 'blue', 'board', 'boardingschool', 'boat', 'bob', 'bobbi', 'bobbyfarrelli', 'bobhoskin', 'bodi', 'body', 'bodyguard', 'bold', 'bollywood', 'bomb', 'bond', 'bone', 'book', 'border', 'bore', 'boredom', 'born', 'boss', 'boston', 'botch', 'bound', 'boundari', 'bounti', 'bountyhunt', 'bout', 'box', 'boxer', 'boy', 'boyfriend', 'boys', 'bradleycoop', 'bradpitt', 'brain', 'brainwash', 'brand', 'brandon', 'brave', 'braveri', 'brazil', 'brazilian', 'break', 'breakdown', 'breast', 'breath', 'breed', 'brendanfras', 'brendangleeson', 'brent', 'brettratn', 'brian', 'briandepalma', 'bride', 'bridesmaid', 'bridg', 'brief', 'brielarson', 'brien', 'bright', 'brilliant', 'bring', 'brink', 'britain', 'british', 'britishsecretservic', 'brittanymurphi', 'broadcast', 'broadway', 'broke', 'broken', 'broker', 'bronx', 'brook', 'brooklyn', 'broom', 'brothel', 'brother', 'brotherbrotherrelationship', 'brothers', 'brothersisterrelationship', 'brought', 'brown', 'bruce', 'brucegreenwood', 'brucewilli', 'brutal', 'bryansing', 'bu', 'buck', 'bud', 'buddi', 'buddy', 'buddycomedi', 'buddycop', 'budget', 'build', 'building', 'built', 'bullet', 'bulli', 'bumbl', 'bunch', 'bunker', 'bunni', 'burglar', 'buri', 'burn', 'bush', 'busi', 'business', 'businessman', 'bust', 'butcher', 'butler', 'butt', 'button', 'buy', 'buzz', 'cabin', 'caesar', 'cage', 'cairo', 'cal', 'california', 'calvin', 'camcord', 'came', 'camera', 'cameraman', 'camerondiaz', 'camp', 'campaign', 'campbell', 'campu', 'canada', 'canadian', 'cancer', 'candi', 'candid', 'canin', 'cannib', 'canuxploit', 'capabl', 'caper', 'capit', 'capt', 'captain', 'captiv', 'captur', 'capture', 'car', 'caraccid', 'carchas', 'carcrash', 'card', 'care', 'career', 'carefre', 'caretak', 'careymulligan', 'caribbean', 'carjourney', 'carl', 'carlagugino', 'carmen', 'carol', 'carolina', 'carrac', 'carri', 'carrie', 'cartel', 'carter', 'cartoon', 'caryelw', 'case', 'caseyaffleck', 'cash', 'casino', 'cast', 'castl', 'cat', 'cataclysm', 'catastroph', 'catch', 'cateblanchett', 'catherinedeneuv', 'catherinekeen', 'catherinezeta', 'cathol', 'catholic', 'cattl', 'caught', 'caus', 'cavalri', 'cave', 'cavemen', 'celebr', 'celebration', 'cell', 'cellphon', 'cemeteri', 'center', 'centr', 'central', 'centuri', 'centuries', 'century', 'ceo', 'certain', 'chad', 'chain', 'chainsaw', 'challeng', 'chamber', 'champion', 'championship', 'chanc', 'chance', 'chang', 'change', 'changed', 'changes', 'channingtatum', 'chao', 'chaos', 'chaotic', 'chapter', 'charact', 'character', 'characters', 'charg', 'charismat', 'charl', 'charli', 'charlie', 'charliesheen', 'charlizetheron', 'charm', 'chart', 'chase', 'chauffeur', 'chazzpalminteri', 'cheat', 'check', 'cheerlead', 'chef', 'chemic', 'cher', 'chevychas', 'chicago', 'chicken', 'chief', 'child', 'childabus', 'childhero', 'childhood', 'childprodigi', 'children', 'chill', 'chimp', 'china', 'chines', 'chip', 'chipmunk', 'chiwetelejiofor', 'chloe', 'chloëgracemoretz', 'chloësevigni', 'chocol', 'choic', 'choice', 'choos', 'chosen', 'chowyun', 'chri', 'chriscolumbu', 'chriscoop', 'chrisevan', 'chrishemsworth', 'chrisklein', 'chrispin', 'chrisrock', 'christ', 'christian', 'christianbal', 'christianslat', 'christin', 'christinaappleg', 'christinaricci', 'christma', 'christmas', 'christmasparti', 'christmastre', 'christoph', 'christopherlambert', 'christopherlloyd', 'christophernolan', 'christopherplumm', 'christopherwalken', 'christophwaltz', 'chrisweitz', 'chronicl', 'chuck', 'church', 'cia', 'ciaránhind', 'cigarettesmok', 'cillianmurphi', 'cinema', 'circl', 'circu', 'circuit', 'circumst', 'citi', 'citizen', 'city', 'civil', 'civilian', 'civilwar', 'claim', 'clair', 'clairedan', 'claireforlani', 'clan', 'clark', 'clash', 'class', 'classdiffer', 'classic', 'classmat', 'classroom', 'claudevandamm', 'clay', 'clean', 'clear', 'clerk', 'clever', 'client', 'clients', 'cliff', 'climat', 'climb', 'clinteastwood', 'cliveowen', 'clock', 'clone', 'close', 'closer', 'cloud', 'clown', 'club', 'clue', 'clueless', 'clutch', 'coach', 'coast', 'cocain', 'code', 'coffin', 'cohen', 'col', 'cold', 'coldwar', 'cole', 'colin', 'colinfarrel', 'colinfirth', 'collaps', 'colleagu', 'collect', 'collector', 'colleg', 'college', 'collid', 'collis', 'colombia', 'colonel', 'coloni', 'color', 'colorado', 'coma', 'combat', 'combin', 'come', 'comeback', 'comed', 'comedi', 'comedian', 'comedy', 'comet', 'comfort', 'comic', 'coming', 'comingofag', 'comingout', 'command', 'commando', 'commerci', 'commiss', 'commit', 'common', 'commun', 'communist', 'community', 'compani', 'companion', 'company', 'compet', 'competit', 'competition', 'complet', 'complex', 'complic', 'compos', 'compuls', 'comput', 'computerviru', 'conan', 'concern', 'concert', 'concoct', 'condit', 'condition', 'conduct', 'confeder', 'confess', 'confid', 'confin', 'conflict', 'confront', 'confus', 'congress', 'conman', 'connect', 'connecticut', 'connel', 'connor', 'conquer', 'consequ', 'consequences', 'conserv', 'consid', 'conspir', 'conspiraci', 'conspiracy', 'constant', 'constantli', 'construct', 'consum', 'contact', 'contain', 'contemporari', 'contend', 'content', 'contest', 'continu', 'contract', 'contractor', 'control', 'controversi', 'convent', 'converg', 'convers', 'convict', 'convinc', 'cook', 'cool', 'cooper', 'cop', 'cope', 'cops', 'core', 'corner', 'corp', 'corpor', 'corporation', 'corps', 'corrupt', 'cost', 'costum', 'couldn', 'counselor', 'count', 'countess', 'countless', 'countri', 'country', 'countryhous', 'countrymus', 'countrysid', 'coup', 'coupl', 'couple', 'courag', 'cours', 'court', 'courtcas', 'courteneycox', 'courtroom', 'cousin', 'cover', 'covert', 'covet', 'cow', 'cowardli', 'cowboy', 'crab', 'crack', 'craft', 'craig', 'crane', 'crash', 'crave', 'crazi', 'creat', 'creation', 'creativ', 'creator', 'creatur', 'creature', 'creatures', 'credit', 'creepi', 'crew', 'cri', 'crime', 'crimefight', 'crimes', 'crimin', 'criminal', 'criminals', 'crisi', 'crisis', 'critic', 'crocodil', 'crook', 'cross', 'crossdress', 'crowd', 'crown', 'cruel', 'cruelti', 'cruis', 'crusad', 'crush', 'crystal', 'cuba', 'cubagoodingjr', 'culmin', 'cult', 'cultfilm', 'cultur', 'culture', 'cultureclash', 'cun', 'cup', 'cure', 'current', 'curs', 'curse', 'custodi', 'custom', 'cut', 'cuttingthecord', 'cyberpunk', 'cyborg', 'cynic', 'dad', 'daili', 'dakotafan', 'dale', 'damag', 'damon', 'dan', 'danaykroyd', 'danc', 'dancer', 'danger', 'daniel', 'danielcraig', 'danielday', 'danielradcliff', 'danni', 'danny', 'dannyboyl', 'dannydevito', 'dannyglov', 'dare', 'dark', 'darkcomedi', 'darkest', 'darkness', 'darylhannah', 'dash', 'date', 'daughter', 'daughters', 'dave', 'davi', 'david', 'davidarquett', 'davidcronenberg', 'davidduchovni', 'davidfinch', 'davidgordongreen', 'davidmors', 'davido', 'davidschwimm', 'davidspad', 'davidthewli', 'dawn', 'daxshepard', 'day', 'daydream', 'days', 'dc', 'dccomic', 'dea', 'dead', 'deadli', 'deadliest', 'deaf', 'deal', 'dealer', 'dean', 'death', 'deathofafriend', 'deathoffath', 'deathpenalti', 'debt', 'debut', 'decad', 'decapit', 'deceas', 'deceit', 'decept', 'decid', 'decis', 'declar', 'dedic', 'deed', 'deep', 'deeper', 'deepli', 'defeat', 'defend', 'defens', 'defi', 'defin', 'delight', 'deliv', 'deliveri', 'delus', 'demand', 'demimoor', 'demon', 'demonicpossess', 'demons', 'deni', 'deniserichard', 'denmark', 'denni', 'dennisdugan', 'dennishopp', 'dennisquaid', 'dentist', 'denzelwashington', 'depart', 'depend', 'depict', 'depress', 'depth', 'deputi', 'derang', 'derek', 'derekluk', 'descend', 'describ', 'desert', 'design', 'desir', 'desk', 'desol', 'despair', 'desper', 'despit', 'destin', 'destini', 'destiny', 'destroy', 'destroyed', 'destruct', 'destruction', 'detect', 'detective', 'determin', 'detroit', 'devast', 'develop', 'devic', 'devil', 'deviou', 'devis', 'devot', 'diabol', 'diagnos', 'dialogu', 'diamond', 'dian', 'dianekeaton', 'dianekrug', 'dianelan', 'diari', 'dick', 'dictat', 'did', 'didn', 'die', 'died', 'diego', 'dies', 'differ', 'different', 'difficult', 'difficulti', 'dig', 'dilemma', 'diner', 'dinner', 'dinosaur', 'diplomat', 'dire', 'direct', 'director', 'dirt', 'dirti', 'dirtycop', 'disabl', 'disappear', 'disappears', 'disast', 'disaster', 'disastr', 'discov', 'discoveri', 'diseas', 'disease', 'disfigur', 'disgrac', 'disguis', 'dishonesti', 'disillus', 'disney', 'disord', 'dispatch', 'disrupt', 'distant', 'district', 'distrust', 'disturb', 'ditch', 'diva', 'dive', 'divid', 'divis', 'divorc', 'divorce', 'dj', 'dna', 'doc', 'doctor', 'document', 'documentari', 'dodg', 'doe', 'doesn', 'dog', 'doll', 'dollar', 'dolphin', 'domest', 'domin', 'don', 'donaldpetri', 'donaldsutherland', 'doncheadl', 'donnel', 'doom', 'doomsday', 'door', 'doorstep', 'doppelgang', 'dorothi', 'doubl', 'double', 'doublecross', 'doublelif', 'doubt', 'doug', 'dougliman', 'dr', 'dracula', 'drag', 'dragon', 'drama', 'dramat', 'draw', 'drawn', 'dread', 'dream', 'dreams', 'dress', 'drew', 'drewbarrymor', 'drift', 'drifter', 'drink', 'drive', 'driven', 'driver', 'drone', 'drop', 'drown', 'drug', 'drugabus', 'drugaddict', 'drugdeal', 'druglord', 'drugs', 'drugsmuggl', 'drugtraff', 'drugus', 'drunk', 'drunken', 'du', 'dualident', 'dub', 'duck', 'dude', 'duel', 'duke', 'dump', 'duo', 'dure', 'duringcreditssting', 'dustinhoffman', 'dutch', 'duti', 'dwarv', 'dwaynejohnson', 'dyinganddeath', 'dylan', 'dynam', 'dynasti', 'dysfunct', 'dysfunctionalfamili', 'dystopia', 'dystopicfutur', 'eager', 'earli', 'earlier', 'earn', 'earth', 'earthquak', 'easi', 'easili', 'east', 'eat', 'eccentr', 'econom', 'economi', 'eddi', 'eddiegriffin', 'eddiemurphi', 'edg', 'edgar', 'edharri', 'editor', 'educ', 'edward', 'edwardburn', 'edwardnorton', 'edwardzwick', 'effect', 'effort', 'egg', 'ego', 'egypt', 'egyptian', 'el', 'elabor', 'elderli', 'elect', 'element', 'eleph', 'elev', 'eliaskotea', 'elijahwood', 'elimin', 'elisabethshu', 'elit', 'elite', 'elizabeth', 'elizabethbank', 'ella', 'ellenburstyn', 'ellenpag', 'elli', 'elliot', 'elliott', 'els', 'elud', 'elus', 'elv', 'elvi', 'embark', 'embassi', 'embroil', 'emerg', 'emigr', 'emilehirsch', 'emili', 'emilyblunt', 'emilymortim', 'emilywatson', 'emma', 'emmarobert', 'emmaston', 'emmathompson', 'emmawatson', 'emot', 'emperor', 'empir', 'empire', 'employ', 'employe', 'employer', 'enabl', 'enchant', 'encount', 'encourag', 'end', 'endless', 'endoftheworld', 'endur', 'enemi', 'enemies', 'enemy', 'energi', 'enforc', 'engag', 'engin', 'england', 'english', 'enigmat', 'enjoy', 'enlist', 'enorm', 'enrol', 'ensemblecast', 'ensu', 'ensues', 'ensur', 'entangl', 'enter', 'enterpris', 'entertain', 'enthusiast', 'entir', 'entiti', 'environ', 'environment', 'epic', 'epidem', 'episod', 'equal', 'era', 'eric', 'ericbana', 'erin', 'ernest', 'erotic', 'erupt', 'escap', 'escapad', 'escape', 'escapefromprison', 'escort', 'especi', 'espionag', 'establish', 'estat', 'estrang', 'etern', 'ethan', 'ethanhawk', 'ethic', 'eugenelevi', 'europ', 'european', 'eva', 'evacu', 'evad', 'evamend', 'evanrachelwood', 'eve', 'event', 'events', 'eventu', 'eventually', 'everi', 'everybodi', 'everyday', 'everyon', 'everyth', 'evid', 'evil', 'evolut', 'evolv', 'ewanmcgregor', 'ex', 'exact', 'exactli', 'exam', 'examin', 'exchang', 'excit', 'exclus', 'execut', 'exercis', 'exhibit', 'exil', 'exist', 'existence', 'existenti', 'exorc', 'exot', 'exoticisland', 'expect', 'expected', 'expedit', 'experi', 'experienc', 'experience', 'experiment', 'expert', 'explain', 'explod', 'exploit', 'explor', 'explos', 'expos', 'extend', 'extra', 'extramaritalaffair', 'extraordinari', 'extraterrestri', 'extraterrestrialtechnolog', 'extrem', 'extremeviol', 'eye', 'eyes', 'fabl', 'fac', 'face', 'facil', 'fact', 'faction', 'factori', 'fade', 'fail', 'fairi', 'fairytal', 'faith', 'fake', 'falcon', 'fall', 'fallen', 'fallinginlov', 'fals', 'falseident', 'falselyaccus', 'fame', 'famili', 'families', 'family', 'familyconflict', 'familyrelationship', 'famkejanssen', 'famou', 'famous', 'fan', 'fanat', 'fangvamp', 'fans', 'fantasi', 'fantast', 'fantasyworld', 'far', 'farewel', 'farm', 'farmer', 'fascin', 'fashion', 'fast', 'faster', 'fat', 'fatal', 'fate', 'father', 'fatherdaughterrelationship', 'fathersonrelationship', 'favor', 'favorit', 'fbi', 'fbiagent', 'fear', 'fearless', 'fearsom', 'featur', 'fed', 'feder', 'feed', 'feel', 'feet', 'fellow', 'femal', 'female', 'femalecorps', 'femalefriendship', 'femalenud', 'femaleprotagonist', 'fend', 'festiv', 'festival', 'fetish', 'feud', 'fi', 'fiance', 'fiancé', 'fiction', 'fictionalplac', 'field', 'fierc', 'fifth', 'fight', 'fighter', 'figur', 'fil', 'file', 'film', 'filmdirector', 'filmmak', 'filmproduc', 'films', 'final', 'finale', 'financ', 'financi', 'fine', 'finish', 'finn', 'firemen', 'firework', 'firm', 'firsttim', 'fish', 'fisherman', 'fishoutofwat', 'fistfight', 'fit', 'fix', 'flame', 'flash', 'flashback', 'flat', 'fledgl', 'flee', 'flesh', 'fli', 'flight', 'fling', 'flint', 'flirt', 'flood', 'florida', 'florist', 'flower', 'flyingsauc', 'focu', 'focus', 'foe', 'foil', 'foley', 'folk', 'follow', 'food', 'foot', 'footag', 'footbal', 'footchas', 'forbidden', 'forbiddenlov', 'forc', 'force', 'forces', 'ford', 'foreign', 'forest', 'forestwhitak', 'forev', 'forever', 'forg', 'forget', 'forgiv', 'form', 'formid', 'formula', 'fort', 'fortun', 'fortune', 'fortunetel', 'forward', 'foster', 'fought', 'foundfootag', 'fourth', 'fox', 'frame', 'franc', 'france', 'francisco', 'francisfordcoppola', 'frank', 'frankcoraci', 'frankenstein', 'franki', 'frankoz', 'frantic', 'fratern', 'fraud', 'freak', 'fred', 'freddi', 'freddieprinzejr', 'free', 'freedom', 'freeman', 'freez', 'french', 'frequent', 'fresh', 'freshman', 'friend', 'friendli', 'friends', 'friendship', 'frighten', 'frog', 'fromragstorich', 'frontier', 'frozen', 'frustrat', 'fu', 'fuel', 'fugit', 'fulfil', 'fulli', 'fun', 'fund', 'funer', 'funeral', 'furiou', 'futur', 'future', 'futurist', 'fword', 'ga', 'gabriel', 'gabrielbyrn', 'gadget', 'gaelgarcíabern', 'gain', 'galaxi', 'galaxy', 'gambl', 'gambler', 'game', 'games', 'gandhi', 'gang', 'gangs', 'gangster', 'gangsterboss', 'gangwar', 'garag', 'garden', 'garfield', 'gari', 'garrymarshal', 'garygray', 'garyoldman', 'garysinis', 'gasstat', 'gather', 'gave', 'gay', 'gayinterest', 'gayrelationship', 'genehackman', 'gener', 'general', 'generation', 'genet', 'geniu', 'genius', 'gentl', 'geoffreyrush', 'georg', 'george', 'georgea', 'georgeclooney', 'georgemil', 'georgia', 'gerardbutl', 'german', 'germani', 'germany', 'getaway', 'ghetto', 'ghost', 'giant', 'gift', 'gig', 'girl', 'girlfriend', 'girls', 'given', 'glamor', 'glass', 'glennclos', 'global', 'globe', 'glori', 'goal', 'god', 'goe', 'gold', 'golden', 'golf', 'gone', 'good', 'goodvsevil', 'gordon', 'gore', 'goreverbinski', 'gorgeou', 'gorilla', 'gossip', 'got', 'gotham', 'gothamc', 'gotten', 'govern', 'government', 'governor', 'grace', 'grad', 'grade', 'gradual', 'graduat', 'grand', 'grandfath', 'grandfather', 'grandmoth', 'grandmother', 'grant', 'graphic', 'grasp', 'grave', 'great', 'greater', 'greatest', 'greec', 'greed', 'greedi', 'greek', 'green', 'greg', 'gregkinnear', 'gregorypeck', 'grew', 'grief', 'griev', 'griffin', 'grim', 'grip', 'grisli', 'ground', 'group', 'groupoffriend', 'grow', 'growingup', 'grown', 'gruesom', 'gu', 'guard', 'guardian', 'guerrilla', 'guest', 'guid', 'guilt', 'guitar', 'gun', 'gunfight', 'gunman', 'gunsling', 'guru', 'gusvans', 'guy', 'guypearc', 'guyritchi', 'guys', 'gwynethpaltrow', 'gym', 'gypsi', 'ha', 'hack', 'hacker', 'hair', 'haleyjoelos', 'half', 'hall', 'halleberri', 'halloween', 'hallucin', 'han', 'hand', 'handl', 'hands', 'handsom', 'handtohandcombat', 'hang', 'hangov', 'hannah', 'hansel', 'hapless', 'happen', 'happens', 'happi', 'happili', 'happiness', 'happy', 'hara', 'harass', 'harbor', 'hard', 'harder', 'harlem', 'harmoni', 'harold', 'haroldrami', 'harri', 'harriet', 'harrison', 'harrisonford', 'harrow', 'harry', 'harsh', 'hart', 'harvard', 'harvey', 'harveykeitel', 'hasn', 'hatch', 'hate', 'hatr', 'haunt', 'hauntedhous', 'haven', 'havoc', 'hawaii', 'haydenchristensen', 'haze', 'head', 'headlin', 'heal', 'health', 'hear', 'heard', 'heart', 'heartattack', 'heartbreak', 'heat', 'heather', 'heathergraham', 'heathledg', 'heaven', 'heavi', 'heavili', 'heavymet', 'height', 'heir', 'heiress', 'heist', 'held', 'helen', 'helenabonhamcart', 'helenhunt', 'helenmirren', 'helicopt', 'hell', 'help', 'henchmen', 'henri', 'hero', 'heroes', 'heroic', 'heroin', 'heroism', 'hi', 'hidden', 'hiddencamera', 'hide', 'high', 'higher', 'highest', 'highland', 'highli', 'highschool', 'highschoolsport', 'highschoolstud', 'highway', 'hijack', 'hike', 'hilari', 'hilaryduff', 'hilaryswank', 'hill', 'himalaya', 'hip', 'hippi', 'hire', 'histor', 'histori', 'historicalfigur', 'history', 'hit', 'hitch', 'hitchhik', 'hitman', 'ho', 'hobbit', 'hockey', 'hold', 'hole', 'holi', 'holiday', 'holli', 'hollywood', 'home', 'homeinvas', 'homeland', 'homeless', 'homelessperson', 'hometown', 'homicid', 'homophobia', 'homosexu', 'honey', 'honeymoon', 'hong', 'hongkong', 'honor', 'hood', 'hoodlum', 'hook', 'hop', 'hope', 'hopedavi', 'hopelessli', 'hopper', 'hord', 'horribl', 'horrif', 'horrifi', 'horror', 'hors', 'horsebackrid', 'horserac', 'hospit', 'hospital', 'host', 'hostag', 'hostage', 'hostil', 'hot', 'hotel', 'hotelroom', 'hotshot', 'hour', 'hous', 'house', 'household', 'housewif', 'howard', 'howev', 'hud', 'huge', 'hugh', 'hughgrant', 'hughjackman', 'human', 'humananimalrelationship', 'humanity', 'humankind', 'humans', 'humili', 'humor', 'hundr', 'hunger', 'hungri', 'hunt', 'hunter', 'hunters', 'hurrican', 'hurt', 'husband', 'hustler', 'hypnosi', 'hypnot', 'hyster', 'hyun', 'ianmckellen', 'ice', 'icecub', 'icon', 'idea', 'ideal', 'idealist', 'ident', 'identity', 'idol', 'idyl', 'ignit', 'ignor', 'ii', 'iii', 'il', 'ill', 'illeg', 'illegaldrug', 'illegalimmigr', 'illegalprostitut', 'illness', 'illus', 'illustr', 'imag', 'imagin', 'imaginari', 'imagined', 'imax', 'immedi', 'immens', 'immigr', 'immort', 'impact', 'imperi', 'imperson', 'implic', 'import', 'imposs', 'impostor', 'impress', 'imprison', 'inadvert', 'incest', 'incid', 'includ', 'incompet', 'increas', 'increasingli', 'incred', 'independ', 'independentfilm', 'indi', 'india', 'indian', 'indiana', 'indianlead', 'individu', 'industri', 'industry', 'inevit', 'inexplic', 'infam', 'infant', 'infect', 'infidel', 'infiltr', 'influenc', 'inform', 'inhabit', 'inherit', 'initi', 'inject', 'injur', 'injuri', 'inmat', 'inner', 'innoc', 'insan', 'insecur', 'insid', 'insight', 'insist', 'insomnia', 'inspector', 'inspir', 'instal', 'instant', 'instantli', 'instead', 'instinct', 'institut', 'institution', 'instructor', 'insur', 'insurg', 'intellig', 'intend', 'intens', 'intent', 'intergalact', 'intern', 'internet', 'interpret', 'interrog', 'interspeciesrom', 'intertwin', 'interview', 'intim', 'intoler', 'intrigu', 'introduc', 'invad', 'invas', 'invent', 'inventor', 'invest', 'investig', 'investigate', 'invis', 'invit', 'involv', 'iowa', 'ira', 'iran', 'iranian', 'iraq', 'iraqwar', 'ireland', 'irish', 'iron', 'islam', 'island', 'isn', 'isol', 'isra', 'israel', 'issu', 'itali', 'italian', 'ivanreitman', 'jack', 'jackass', 'jackblack', 'jacki', 'jackiechan', 'jacknicholson', 'jackson', 'jacob', 'jadapinkettsmith', 'jade', 'jail', 'jake', 'jakegyllenha', 'jamaica', 'jame', 'james', 'jamescaan', 'jamescameron', 'jamesfranco', 'jamesivori', 'jamesmangold', 'jamesmarsden', 'jamesmcavoy', 'jameswan', 'jameswood', 'jami', 'jamie', 'jamiefoxx', 'jamieleecurti', 'jan', 'jane', 'janitor', 'japan', 'japanes', 'jaredleto', 'jason', 'jasonbateman', 'jasonbigg', 'jasonle', 'jasonschwartzman', 'jasonsegel', 'jasonstatham', 'javierbardem', 'jay', 'jaychandrasekhar', 'jayroach', 'jazz', 'jealousi', 'jean', 'jeanreno', 'jedi', 'jeff', 'jeffbridg', 'jeffdaniel', 'jeffgoldblum', 'jeffreywright', 'jennif', 'jenniferaniston', 'jenniferconnelli', 'jennifergarn', 'jenniferjasonleigh', 'jenniferlawr', 'jenniferlopez', 'jenniferlovehewitt', 'jeremyiron', 'jeremyrenn', 'jerri', 'jersey', 'jerusalem', 'jess', 'jessebradford', 'jesseeisenberg', 'jessica', 'jessicaalba', 'jessicabiel', 'jessicachastain', 'jesu', 'jesus', 'jesuschrist', 'jetli', 'jew', 'jewel', 'jewish', 'jigsaw', 'jill', 'jim', 'jimbroadb', 'jimcarrey', 'jimcaviezel', 'jimmi', 'jimmy', 'jin', 'joanallen', 'joancusack', 'joaquinphoenix', 'job', 'jobinterview', 'jock', 'jodiefost', 'joe', 'joel', 'joelcoen', 'joeledgerton', 'joelschumach', 'joepesci', 'joey', 'john', 'johnc', 'johncarpent', 'johncusack', 'johngoodman', 'johnhurt', 'johnkrasinski', 'johnleguizamo', 'johnmalkovich', 'johnmctiernan', 'johnni', 'johnny', 'johnnydepp', 'johnnyknoxvil', 'johnsingleton', 'johnson', 'johntravolta', 'johnturturro', 'johnwoo', 'join', 'jon', 'jonahhil', 'jonathan', 'jonathanfrak', 'jonathanrhysmey', 'jone', 'jones', 'jonfavreau', 'jonturteltaub', 'jonvoight', 'jordan', 'joseph', 'josephgordon', 'josh', 'joshbrolin', 'joshhartnett', 'joshhutcherson', 'journal', 'journalist', 'journey', 'joy', 'jr', 'juan', 'judelaw', 'judg', 'judidench', 'juli', 'julia', 'julian', 'juliannemoor', 'juliarobert', 'juliastil', 'julie', 'jump', 'jungl', 'jungle', 'junior', 'junki', 'just', 'justic', 'justice', 'justinlong', 'justintimberlak', 'kansa', 'karat', 'karen', 'karlurban', 'kat', 'kate', 'katebeckinsal', 'katebosworth', 'katehudson', 'katemara', 'katewinslet', 'katherin', 'katherineheigl', 'kathi', 'kathyb', 'kati', 'katieholm', 'katniss', 'kay', 'keanureev', 'keiraknightley', 'kelli', 'kelly', 'kellypreston', 'ken', 'kennethbranagh', 'kermit', 'kevin', 'kevinbacon', 'kevincostn', 'kevinhart', 'kevinjam', 'kevinklin', 'kevinsmith', 'kevinspacey', 'key', 'kgb', 'khan', 'kick', 'kid', 'kidnap', 'kidnapp', 'kidnapped', 'kids', 'kidsandfamili', 'kiefersutherland', 'kill', 'killed', 'killer', 'killerrobot', 'killers', 'kim', 'kimbasing', 'kind', 'king', 'kingdom', 'kingpin', 'kirk', 'kirstendunst', 'kiss', 'kit', 'kitchen', 'knew', 'knife', 'knight', 'knit', 'knock', 'know', 'knowledg', 'known', 'kong', 'korea', 'korean', 'kowalski', 'kriskristofferson', 'kristenbel', 'kristenstewart', 'kristenwiig', 'kristinscottthoma', 'krueger', 'kung', 'kungfu', 'kurt', 'kurtrussel', 'kyle', 'la', 'lab', 'labor', 'laboratori', 'lac', 'lack', 'ladi', 'ladies', 'ladykil', 'laid', 'lake', 'land', 'landscap', 'lane', 'languag', 'lapd', 'larg', 'larger', 'largest', 'larri', 'laser', 'lasergun', 'lassehallström', 'lasvega', 'late', 'later', 'latest', 'laugh', 'launch', 'laura', 'lauralinney', 'laurencefishburn', 'lavish', 'law', 'lawman', 'lawrenc', 'lawyer', 'lax', 'lay', 'lazi', 'le', 'lead', 'leader', 'leadership', 'leagu', 'learn', 'leav', 'led', 'lee', 'left', 'leg', 'legaci', 'legacy', 'legal', 'legend', 'legendari', 'legends', 'legion', 'lenaheadey', 'length', 'leo', 'leon', 'leonardnimoy', 'leonardodicaprio', 'lesbian', 'lesbianrelationship', 'lesliemann', 'leslienielsen', 'lesson', 'let', 'lethal', 'letter', 'level', 'levitt', 'lewi', 'lgbt', 'li', 'liaison', 'liamneeson', 'liar', 'liber', 'lie', 'lieuten', 'lievschreib', 'lif', 'life', 'lifeanddeath', 'lifelong', 'lifestyl', 'lifetim', 'lift', 'light', 'lightn', 'lik', 'like', 'lili', 'limit', 'lincoln', 'linda', 'lindsaylohan', 'line', 'lines', 'link', 'lion', 'lisa', 'lisakudrow', 'list', 'listen', 'liter', 'literatur', 'littl', 'littleboy', 'live', 'liveactionandanim', 'lives', 'living', 'lizzi', 'll', 'lloyd', 'lo', 'loan', 'local', 'locat', 'lock', 'logan', 'loganlerman', 'lola', 'london', 'londonengland', 'lone', 'loneli', 'loner', 'lonewolf', 'long', 'longer', 'longtim', 'look', 'loop', 'loos', 'loose', 'loot', 'lord', 'losangel', 'lose', 'loser', 'loss', 'lossofbroth', 'lossofchild', 'lossoffamili', 'lossoffath', 'lossofhusband', 'lossoflov', 'lossofmoth', 'lossofpar', 'lossofson', 'lost', 'lot', 'lotteri', 'lou', 'loui', 'louisiana', 'lov', 'lovabl', 'love', 'loveatfirstsight', 'loveless', 'lovelett', 'loveofone', 'lover', 'loves', 'lovesick', 'lovetriangl', 'low', 'loyal', 'loyalti', 'lt', 'luca', 'luci', 'luck', 'lucki', 'lucy', 'lucyliu', 'luke', 'lukewilson', 'lure', 'lurk', 'lust', 'luxuri', 'ma', 'machin', 'machine', 'machinegun', 'maci', 'mad', 'madam', 'madea', 'madison', 'madness', 'madonna', 'mafia', 'magazin', 'maggi', 'maggie', 'magic', 'magician', 'maid', 'mail', 'main', 'maintain', 'major', 'mak', 'make', 'malcolm', 'malcolmd', 'male', 'malefemalerelationship', 'malefriendship', 'malenud', 'malibu', 'mall', 'man', 'manag', 'manager', 'mandymoor', 'manhattan', 'manhunt', 'mani', 'maniac', 'manipul', 'mankind', 'mann', 'manner', 'mansion', 'manufactur', 'manvsmachin', 'map', 'mar', 'marcforst', 'march', 'marcu', 'mari', 'maria', 'mariabello', 'marijuana', 'marin', 'marisatomei', 'mark', 'market', 'markruffalo', 'markstrong', 'markwahlberg', 'marlonbrando', 'marlonwayan', 'marri', 'marriag', 'marriage', 'marriagecrisi', 'marriagepropos', 'married', 'marriedcoupl', 'marsh', 'marshal', 'martha', 'marti', 'martial', 'martialart', 'martian', 'martin', 'martincampbel', 'martinfreeman', 'martinlawr', 'martinscorses', 'marvelcinematicunivers', 'marvelcom', 'mary', 'marymccormack', 'mask', 'maskedkil', 'mass', 'massacr', 'massiv', 'massmurd', 'master', 'mastermind', 'masturb', 'match', 'mate', 'materi', 'mathemat', 'mathematician', 'matrix', 'matt', 'mattdamon', 'mattdillon', 'matter', 'matteroflifeanddeath', 'matthew', 'matthewbroderick', 'matthewlillard', 'matthewmcconaughey', 'maverick', 'max', 'maya', 'mayb', 'mayhem', 'mayor', 'maze', 'mccall', 'mcclane', 'mean', 'meant', 'meanwhil', 'meat', 'mechan', 'medal', 'medallion', 'media', 'medic', 'medicin', 'mediev', 'meet', 'mega', 'megan', 'megryan', 'melbrook', 'melgibson', 'melissa', 'melvin', 'member', 'members', 'memoir', 'memori', 'memoryloss', 'men', 'menac', 'mental', 'mentalil', 'mentallydis', 'mentor', 'mephisto', 'mercenari', 'merchant', 'merciless', 'mere', 'mermaid', 'merylstreep', 'messag', 'met', 'metal', 'meteor', 'method', 'metro', 'mexican', 'mexicanstandoff', 'mexico', 'mia', 'miami', 'michael', 'michaelangarano', 'michaelbay', 'michaelcain', 'michaeldougla', 'michaelfassbend', 'michaelj', 'michaelkeaton', 'michaelmoor', 'michaelshannon', 'michaelsheen', 'michel', 'michellemonaghan', 'michellepfeiff', 'michellerodriguez', 'michigan', 'mickey', 'mickeyrourk', 'mid', 'middl', 'middle', 'middleag', 'middleeast', 'midlifecrisi', 'midnight', 'midst', 'midwest', 'mighti', 'mike', 'mikemy', 'mikenewel', 'milakuni', 'mild', 'mile', 'militari', 'millajovovich', 'miller', 'million', 'millionair', 'milo', 'mind', 'mindcontrol', 'miner', 'minion', 'minist', 'minnesota', 'minniedriv', 'minor', 'minut', 'miracl', 'miracul', 'miranda', 'mirror', 'misadventur', 'misanthrop', 'mischiev', 'miser', 'misfit', 'misguid', 'mismatch', 'misogynist', 'miss', 'missil', 'missing', 'missingperson', 'mission', 'missionari', 'missionofmurd', 'mississippi', 'missouri', 'mistak', 'mistaken', 'mistakenident', 'mistakenli', 'mistress', 'mitch', 'mitchel', 'mix', 'mob', 'mobster', 'mockumentari', 'model', 'modern', 'mole', 'molli', 'mom', 'moment', 'money', 'monica', 'monk', 'monkey', 'monster', 'monsters', 'monstrou', 'montana', 'month', 'months', 'montreal', 'moon', 'moonlight', 'moor', 'moore', 'moral', 'morganfreeman', 'morgu', 'mormon', 'morn', 'morrischestnut', 'mortal', 'moscow', 'mose', 'mossad', 'mostli', 'motel', 'mother', 'motherdaughterrelationship', 'motherrol', 'mothersonrelationship', 'motion', 'motiv', 'motley', 'motor', 'motorcycl', 'mount', 'mountain', 'mountains', 'mous', 'mouth', 'movement', 'movi', 'movie', 'movieinmovi', 'movies', 'moviestar', 'mr', 'multi', 'multipl', 'multiplestorylin', 'mumblecor', 'mumblegor', 'murder', 'murdered', 'murderer', 'murderhunt', 'murphi', 'murray', 'muse', 'museum', 'music', 'musicband', 'musician', 'musket', 'muslim', 'mut', 'mutant', 'mutat', 'mutini', 'mutual', 'mysteri', 'mystery', 'mystic', 'myth', 'mythic', 'mytholog', 'naiv', 'nam', 'nanni', 'naomiwatt', 'narcot', 'narnia', 'narrat', 'nasa', 'nasti', 'natalieportman', 'nathan', 'nation', 'nativ', 'nativeamerican', 'natur', 'naturaldisast', 'nature', 'navi', 'navig', 'navys', 'nazi', 'nazigermani', 'nba', 'near', 'nearbi', 'nearli', 'necessari', 'need', 'nefari', 'negoti', 'neighbor', 'neighborhood', 'neil', 'neiljordan', 'nelson', 'nemesi', 'nemesis', 'neo', 'nephew', 'nerd', 'nerdi', 'netherland', 'network', 'nevada', 'nevecampbel', 'new', 'newborn', 'newcom', 'newfound', 'newident', 'newjersey', 'newli', 'newlov', 'newlyw', 'newmexico', 'news', 'newspap', 'newyear', 'newyork', 'newyorkc', 'nialong', 'nice', 'nick', 'nicknolt', 'nicol', 'nicolascag', 'nicolekidman', 'niec', 'niece', 'night', 'nightclub', 'nightlif', 'nightmar', 'nightmare', 'nightshyamalan', 'nightstand', 'ninja', 'noah', 'nobl', 'nobodi', 'noir', 'nomad', 'non', 'normal', 'norman', 'north', 'northern', 'nose', 'note', 'noth', 'notic', 'notori', 'novel', 'novelist', 'nowher', 'nuclear', 'nuclearmissil', 'nuditi', 'number', 'numberintitl', 'numer', 'nun', 'nurs', 'nypd', 'object', 'observ', 'obsess', 'obsession', 'obstacl', 'obtain', 'occasion', 'occult', 'occup', 'occupi', 'occur', 'ocean', 'odd', 'oddbal', 'odds', 'odyssey', 'offer', 'offic', 'office', 'officer', 'offici', 'ogr', 'ohio', 'oil', 'old', 'older', 'oliv', 'oliverston', 'olivia', 'oliviawild', 'olymp', 'olympicgam', 'omar', 'onc', 'onli', 'onlin', 'ontherun', 'open', 'oper', 'opera', 'operation', 'opportun', 'oppos', 'opposit', 'oppositesattract', 'oppress', 'orc', 'orchestr', 'order', 'ordinari', 'oregon', 'organ', 'organization', 'organizedcrim', 'origin', 'orlandobloom', 'orlean', 'orphan', 'orphanag', 'orphanage', 'oscar', 'oscaraward', 'oscarisaac', 'otherworldli', 'outback', 'outbreak', 'outcast', 'outerspac', 'outlaw', 'outrag', 'outsid', 'outwit', 'overcom', 'overrun', 'overthrow', 'overwhelm', 'owenwilson', 'owl', 'owner', 'oxford', 'oz', 'pacif', 'pack', 'packag', 'pact', 'pageant', 'paid', 'pain', 'paint', 'painter', 'pair', 'pal', 'palac', 'pam', 'pan', 'pandora', 'panic', 'panther', 'paper', 'parallel', 'parallelworld', 'paranoia', 'paranoid', 'paranorm', 'parent', 'parents', 'parentskidsrelationship', 'pari', 'paris', 'parisian', 'park', 'parker', 'parodi', 'parol', 'parrish', 'parti', 'particip', 'particularli', 'parties', 'partner', 'partners', 'partnership', 'party', 'pass', 'passeng', 'passion', 'past', 'pastor', 'path', 'patient', 'patriarch', 'patriciaarquett', 'patrick', 'patrickstewart', 'patrickwilson', 'patriot', 'patrol', 'paul', 'paulapatton', 'paulbettani', 'paulgiamatti', 'paulgreengrass', 'paulnewman', 'paulrudd', 'paulw', 'paulwalk', 'pawn', 'pay', 'peac', 'peace', 'pearl', 'peasant', 'pedophilia', 'penguin', 'penn', 'pennsylvania', 'penélopecruz', 'peopl', 'people', 'perfect', 'perform', 'peril', 'period', 'perioddrama', 'perry', 'persian', 'person', 'persuad', 'peru', 'pet', 'pete', 'peter', 'peterberg', 'peterjackson', 'petersarsgaard', 'peterseg', 'petti', 'phantom', 'phil', 'philadelphia', 'philipseymourhoffman', 'phillipnoyc', 'philosoph', 'philosophi', 'phone', 'photo', 'photograph', 'photographi', 'physic', 'pianist', 'piano', 'picard', 'pick', 'pictur', 'picture', 'piec', 'piercebrosnan', 'pierr', 'pig', 'pilot', 'pimp', 'pink', 'pinocchio', 'piperperabo', 'pirat', 'pistol', 'pit', 'pitch', 'place', 'plagu', 'plan', 'plane', 'planet', 'plannedmurd', 'plans', 'plant', 'plantat', 'play', 'playboy', 'player', 'playground', 'playwright', 'pleasur', 'pledg', 'plenti', 'plot', 'plung', 'po', 'poet', 'poetri', 'point', 'poison', 'poker', 'polar', 'polic', 'police', 'policebrut', 'policechas', 'policeman', 'policeoffic', 'policeoper', 'polit', 'politician', 'polli', 'pool', 'poor', 'pop', 'popstar', 'popul', 'popular', 'porn', 'pornographi', 'port', 'portal', 'porter', 'portrait', 'portray', 'pose', 'posit', 'possess', 'possibl', 'post', 'posttraumaticstressdisord', 'pot', 'potenti', 'potter', 'pound', 'poverti', 'pow', 'power', 'poweroutag', 'powers', 'practic', 'prank', 'prayer', 'pre', 'preacher', 'preciou', 'predat', 'predict', 'prefer', 'pregnanc', 'pregnancyandbirth', 'pregnant', 'prehistor', 'prejudic', 'premonit', 'prepar', 'prequel', 'presenc', 'present', 'presid', 'president', 'presidenti', 'presidentialelect', 'press', 'pressur', 'prestigi', 'presum', 'pretend', 'pretti', 'prevent', 'previou', 'prey', 'price', 'priceless', 'pride', 'priest', 'prime', 'princ', 'prince', 'princess', 'princip', 'principl', 'prison', 'prisonersofwar', 'privat', 'privatedetect', 'privileg', 'prize', 'pro', 'problem', 'problems', 'process', 'prodigi', 'produc', 'product', 'production', 'profession', 'professor', 'profil', 'profit', 'program', 'progress', 'project', 'prom', 'promin', 'promis', 'promot', 'prompt', 'proof', 'properti', 'propheci', 'propos', 'prosecut', 'prospect', 'prostitut', 'protect', 'protest', 'prove', 'provid', 'psychiatr', 'psychiatrist', 'psychic', 'psycholog', 'psychologist', 'psychopath', 'psychot', 'pub', 'puberti', 'public', 'publicist', 'publish', 'pull', 'punish', 'punk', 'puppet', 'puppi', 'purchas', 'pure', 'purpos', 'pursu', 'pursuit', 'push', 'quarantin', 'quarterback', 'queen', 'queenlatifah', 'quentintarantino', 'quest', 'question', 'quick', 'quickli', 'quiet', 'quirki', 'quit', 'rabbit', 'race', 'raceagainsttim', 'racehors', 'racer', 'rachaelleighcook', 'rachel', 'rachelmcadam', 'rachelweisz', 'racial', 'racism', 'radiat', 'radic', 'radio', 'rag', 'rage', 'rageandh', 'ragtag', 'raid', 'railroad', 'rain', 'rais', 'ralli', 'ralph', 'ralphfienn', 'rampag', 'ran', 'ranch', 'rancher', 'ranger', 'rank', 'ransom', 'rape', 'rapidli', 'rapmus', 'rapper', 'rare', 'rat', 'rate', 'ravag', 'raw', 'ray', 'rayliotta', 'raymond', 'raywinston', 'reach', 'reaction', 'read', 'readi', 'real', 'realis', 'realiti', 'reality', 'realiz', 'realli', 'realm', 'reaper', 'reason', 'rebecca', 'rebeccahal', 'rebel', 'rebelli', 'rebellion', 'reboot', 'rebuild', 'receiv', 'recent', 'reckless', 'reclaim', 'reclus', 'reconcil', 'reconnect', 'record', 'recount', 'recov', 'recreat', 'recruit', 'red', 'redempt', 'redemption', 'rediscov', 'redneck', 'reel', 'reesewitherspoon', 'reflect', 'refug', 'refus', 'regain', 'regard', 'regim', 'regret', 'regular', 'reign', 'reilli', 'reject', 'rekindl', 'rel', 'relat', 'relationship', 'relationshipproblem', 'relationships', 'releas', 'relentless', 'reli', 'religi', 'religion', 'religionandsupernatur', 'reloc', 'reluct', 'reluctantli', 'remain', 'remak', 'remark', 'rememb', 'remind', 'reminisc', 'remot', 'renegad', 'renerusso', 'rennyharlin', 'renown', 'rent', 'renéezellweg', 'repair', 'repay', 'replac', 'report', 'reporter', 'repres', 'repress', 'reput', 'request', 'requir', 'rescu', 'rescue', 'research', 'resid', 'resist', 'resistance', 'resolv', 'resort', 'resourc', 'resources', 'respect', 'respond', 'respons', 'rest', 'restaur', 'restaurant', 'restor', 'result', 'results', 'resurfac', 'resurrect', 'retel', 'retir', 'retreat', 'retriev', 'return', 'reunion', 'reunit', 'reveal', 'revealed', 'revel', 'reveng', 'revenge', 'reverend', 'reviv', 'revolut', 'revolutionari', 'revolv', 'reward', 'rich', 'richard', 'richarddonn', 'richarddreyfuss', 'richardger', 'richardlinklat', 'rick', 'ricki', 'rid', 'riddl', 'ride', 'rider', 'ridicul', 'ridleyscott', 'rifl', 'rig', 'right', 'rightandjustic', 'riley', 'ring', 'riot', 'rip', 'ripley', 'rise', 'risk', 'ritual', 'rival', 'rivalri', 'river', 'road', 'roadmovi', 'roadtrip', 'roam', 'roar', 'rob', 'robber', 'robberi', 'robcohen', 'robert', 'robertdeniro', 'robertdowneyjr', 'robertduval', 'robertenglund', 'robertredford', 'robertrodriguez', 'robertzemecki', 'robin', 'robinson', 'robinwilliam', 'robinwright', 'robot', 'robrein', 'rock', 'rockandrol', 'rocket', 'rocki', 'rockstar', 'roger', 'rogerdonaldson', 'rogermoor', 'rogu', 'rolandemmerich', 'role', 'roll', 'roller', 'roman', 'romanc', 'romance', 'romant', 'romanticcomedi', 'rome', 'romeo', 'romero', 'ron', 'ronhoward', 'ronni', 'roof', 'rooftop', 'rooki', 'room', 'roommat', 'root', 'rosamundpik', 'rosariodawson', 'rose', 'rosebyrn', 'ross', 'rough', 'round', 'routin', 'row', 'roy', 'royal', 'royalti', 'rubi', 'rugbi', 'rugrat', 'ruin', 'rule', 'ruler', 'rules', 'rumor', 'run', 'runaway', 'runner', 'rupertgrint', 'rural', 'ruralset', 'rush', 'russel', 'russell', 'russellcrow', 'russia', 'russian', 'ruth', 'ruthless', 'ryan', 'ryangosl', 'ryanphillipp', 'ryanreynold', 'sabotag', 'sacr', 'sacrific', 'sad', 'sadism', 'sadist', 'safe', 'safeti', 'safety', 'saga', 'said', 'sail', 'sailor', 'saint', 'sale', 'salesman', 'salli', 'salmahayek', 'sam', 'samantha', 'samanthamorton', 'sammend', 'samneil', 'samraimi', 'samrockwel', 'samuel', 'samuell', 'samurai', 'san', 'sand', 'sandi', 'sandrabullock', 'sanfrancisco', 'santa', 'santaclau', 'sara', 'sarah', 'sarahjessicapark', 'sarahmichellegellar', 'sarapaxton', 'satan', 'satellit', 'satir', 'satisfi', 'savag', 'save', 'savingtheworld', 'saw', 'say', 'sbook', 'scam', 'scandal', 'scar', 'scare', 'scari', 'scarlettjohansson', 'scene', 'schedul', 'scheme', 'schizophrenia', 'scholarship', 'school', 'schoolteach', 'sci', 'scienc', 'sciencefict', 'scientif', 'scientist', 'score', 'scotland', 'scott', 'scottglenn', 'scottish', 'scout', 'scrambl', 'scream', 'screen', 'screenplay', 'screenwrit', 'script', 'scubadiv', 'sdailylif', 'sea', 'seal', 'sean', 'seanbean', 'seanconneri', 'seannwilliamscott', 'seanpenn', 'search', 'seas', 'seasid', 'season', 'seattl', 'sebastian', 'seclud', 'second', 'secret', 'secretag', 'secretari', 'secretident', 'secretintelligenceservic', 'secretli', 'secretlov', 'secretmiss', 'secretorgan', 'secrets', 'secretservic', 'secretsocieti', 'section', 'secur', 'securityguard', 'seduc', 'seduct', 'seek', 'seemingli', 'seen', 'seiz', 'sel', 'self', 'selfsacrific', 'sell', 'selmablair', 'semi', 'senat', 'send', 'senior', 'sens', 'sensat', 'sensit', 'sent', 'sentenc', 'seo', 'separ', 'sequel', 'sergeant', 'seri', 'serial', 'serialkil', 'series', 'seriesofmurd', 'seriou', 'seriously', 'serv', 'servant', 'servic', 'service', 'session', 'set', 'seth', 'sethgreen', 'sethrogen', 'settl', 'settler', 'sev', 'seven', 'sever', 'sewer', 'sex', 'sexaddict', 'sexi', 'sexual', 'sexualabus', 'sexualobsess', 'shadi', 'shadow', 'shadowi', 'shake', 'shaken', 'shakespear', 'shakespeare', 'shane', 'shanghai', 'shannynsossamon', 'shape', 'share', 'shark', 'sharkattack', 'sharonston', 'sharp', 'shatter', 'shaw', 'shawnlevi', 'shelter', 'shepherd', 'sheriff', 'shi', 'shialabeouf', 'shield', 'shift', 'ship', 'shipwreck', 'shock', 'shoe', 'shoot', 'shootout', 'shop', 'short', 'shot', 'shotgun', 'showdown', 'shower', 'shredder', 'shrek', 'shut', 'shuttl', 'shyness', 'sibl', 'sick', 'sid', 'sidekick', 'sidney', 'sight', 'sign', 'signal', 'sigourneyweav', 'silenc', 'silent', 'silentfilm', 'silver', 'similar', 'simon', 'simonpegg', 'simonwest', 'simpl', 'simpli', 'simpson', 'simultan', 'sin', 'sinc', 'sing', 'singer', 'singl', 'single', 'singlefath', 'singlemoth', 'singlepar', 'sinist', 'sir', 'sister', 'sisters', 'sistersisterrelationship', 'sit', 'site', 'sittingonatoilet', 'situat', 'situation', 'size', 'skateboard', 'skeleton', 'skeptic', 'ski', 'skill', 'skull', 'sky', 'skyscrap', 'slacker', 'slapstick', 'slasher', 'slaughter', 'slave', 'slaveri', 'slavery', 'sleazi', 'sleep', 'sleepi', 'sleepwalk', 'slif', 'slip', 'slowli', 'slum', 'small', 'smalltown', 'smart', 'smash', 'smith', 'smitten', 'smoke', 'smuggl', 'smuggler', 'smurf', 'snake', 'snatch', 'sniper', 'snow', 'snowstorm', 'soccer', 'social', 'societi', 'society', 'sociopath', 'sofia', 'solar', 'sold', 'soldi', 'soldier', 'soldiers', 'sole', 'solitari', 'solomon', 'solv', 'somebodi', 'someon', 'someth', 'sometim', 'somewhat', 'somewher', 'son', 'song', 'songwrit', 'soon', 'sophi', 'sorcer', 'sorcerer', 'sorceri', 'soror', 'sort', 'soul', 'sound', 'soundtrack', 'sour', 'south', 'southafrica', 'southern', 'southernusa', 'soviet', 'sovietunion', 'space', 'spacecraft', 'spacemarin', 'spacemiss', 'spaceopera', 'spaceship', 'spacetravel', 'spain', 'span', 'spanish', 'spark', 'speak', 'speci', 'special', 'specialist', 'spectacular', 'speech', 'speed', 'spell', 'spencer', 'spend', 'spent', 'spi', 'spider', 'spike', 'spikele', 'spin', 'spiral', 'spirit', 'spiritu', 'spite', 'spoil', 'spoof', 'sport', 'sportsteam', 'spot', 'spotlight', 'spread', 'spring', 'squad', 'squar', 'st', 'stab', 'stadium', 'staff', 'stage', 'stak', 'stake', 'stalk', 'stalker', 'stan', 'stand', 'stanley', 'star', 'starcrossedlov', 'stardom', 'starfleet', 'stark', 'start', 'state', 'states', 'station', 'statu', 'stay', 'steal', 'steampunk', 'steel', 'stella', 'step', 'stepfath', 'stephen', 'stephendorff', 'stephenfrear', 'stephenherek', 'stephenrea', 'stepmoth', 'steve', 'stevebuscemi', 'stevecarel', 'stevemartin', 'steven', 'stevenseag', 'stevensoderbergh', 'stevenspielberg', 'stevezahn', 'stewardess', 'stewart', 'stick', 'stir', 'stock', 'stockbrok', 'stolen', 'stone', 'stoneag', 'stoner', 'stop', 'stopmot', 'store', 'stori', 'stories', 'storm', 'story', 'straight', 'strain', 'strand', 'strang', 'stranger', 'strateg', 'strategi', 'stray', 'street', 'streetgang', 'streets', 'strength', 'stress', 'stretch', 'strict', 'strike', 'strikes', 'strip', 'stripclub', 'stripper', 'strive', 'strong', 'struggl', 'stu', 'stuart', 'stuck', 'student', 'students', 'studi', 'studio', 'stumbl', 'stun', 'stunt', 'stupid', 'style', 'su', 'sub', 'subject', 'submachinegun', 'submarin', 'subsequ', 'suburban', 'suburbia', 'subway', 'succeed', 'success', 'successful', 'successor', 'sudden', 'suddenli', 'sue', 'suffer', 'suggest', 'suicid', 'suicide', 'suicideattempt', 'suit', 'suitor', 'sullivan', 'summer', 'summon', 'sun', 'sunglass', 'super', 'supercomput', 'superhero', 'superhuman', 'superhumanstrength', 'superman', 'supermarket', 'supernatur', 'supernaturalpow', 'superpow', 'superstar', 'supervillain', 'supervisor', 'suppli', 'support', 'suppos', 'suppress', 'suppressedpast', 'sure', 'surf', 'surfac', 'surface', 'surfer', 'surgeon', 'surgeri', 'surpris', 'surreal', 'surround', 'surveil', 'surviv', 'survival', 'survive', 'survivor', 'survivors', 'susan', 'susansarandon', 'suspect', 'suspens', 'suspici', 'suspicion', 'swallow', 'sweep', 'sweet', 'sweetheart', 'swept', 'swimmingpool', 'swing', 'switch', 'sword', 'swordandsorceri', 'swordfight', 'swordplay', 'sylvesterstallon', 'symbol', 'tabl', 'tactic', 'tag', 'tail', 'tak', 'taken', 'tale', 'talent', 'talk', 'talkinganim', 'tall', 'tank', 'tap', 'tape', 'target', 'task', 'tast', 'tattoo', 'taxi', 'taxidriv', 'taylor', 'teach', 'teacher', 'team', 'tear', 'tech', 'technolog', 'technology', 'ted', 'teen', 'teenag', 'teenagecrush', 'teenagegirl', 'teenager', 'teenagers', 'teenagesexu', 'teencomedi', 'teenmovi', 'teens', 'telekinesi', 'telepathi', 'teleport', 'televis', 'tell', 'tens', 'tension', 'term', 'termin', 'terminalil', 'terrencehoward', 'terri', 'terribl', 'terrier', 'terrifi', 'territori', 'terror', 'terrorist', 'terrygilliam', 'tess', 'test', 'tested', 'texa', 'texas', 'th', 'thailand', 'thandienewton', 'thank', 'thanksgiv', 'theater', 'theatremilieu', 'theft', 'theme', 'themselv', 'theori', 'therapist', 'thi', 'thief', 'thiev', 'thing', 'things', 'think', 'thirst', 'thirti', 'thoma', 'thomashadenchurch', 'thomasjan', 'thompson', 'thought', 'thousand', 'threat', 'threaten', 'thrill', 'thriller', 'throne', 'throw', 'thrown', 'thrust', 'thu', 'thug', 'thwart', 'tibet', 'tick', 'ticket', 'tie', 'tiger', 'tildaswinton', 'tim', 'timallen', 'timburton', 'time', 'timeless', 'times', 'timetravel', 'timothyolyph', 'timrobbin', 'timroth', 'timstori', 'tini', 'tire', 'titan', 'titl', 'tobeymaguir', 'today', 'todd', 'toddphillip', 'togeth', 'tokyo', 'told', 'tom', 'tomcruis', 'tomhank', 'tomhardi', 'tommi', 'tommyleejon', 'tomshadyac', 'tomwilkinson', 'toni', 'tonicollett', 'tonyscott', 'took', 'tool', 'tooth', 'torment', 'torn', 'tornado', 'toronto', 'tortur', 'total', 'totalitarian', 'touch', 'tough', 'toughest', 'tour', 'tourist', 'tournament', 'tower', 'town', 'toxic', 'toy', 'toycomestolif', 'trace', 'track', 'trade', 'trader', 'tradit', 'traffic', 'traffick', 'tragedi', 'tragedy', 'tragic', 'trail', 'train', 'trainer', 'traitor', 'transfer', 'transform', 'transit', 'transplant', 'transport', 'trap', 'trauma', 'traumat', 'travel', 'treacher', 'treasur', 'treasurehunt', 'treat', 'treatment', 'tree', 'trek', 'tri', 'trial', 'triangl', 'triangle', 'tribe', 'trick', 'trigger', 'trio', 'trip', 'triumph', 'troop', 'tropic', 'troubl', 'trouble', 'troy', 'truck', 'trucker', 'true', 'truli', 'trust', 'truth', 'tsunami', 'tunnel', 'turbul', 'turmoil', 'turn', 'turned', 'turner', 'turtl', 'tv', 'tvmovi', 'tvshow', 'tvstation', 'twenti', 'twin', 'twinbroth', 'twist', 'tycoon', 'tyler', 'tylerperri', 'type', 'typic', 'tyrann', 'téaleoni', 'ufo', 'ugli', 'ultim', 'ultra', 'umathurman', 'unabl', 'unawar', 'unbeknownst', 'uncl', 'uncle', 'uncomfort', 'unconvent', 'uncov', 'undead', 'undercov', 'undercoverag', 'undercovercop', 'underdog', 'undergo', 'underground', 'understand', 'undertak', 'underwat', 'underworld', 'unemploy', 'unexpect', 'unexpectedli', 'unexplain', 'unfaith', 'unfold', 'unforgett', 'unfortun', 'unfortunately', 'unhappi', 'unimagin', 'union', 'uniqu', 'unit', 'univers', 'universe', 'university', 'unknown', 'unleash', 'unless', 'unlik', 'unlikelyfriendship', 'unlock', 'unorthodox', 'unpreced', 'unpredict', 'unravel', 'unrequitedlov', 'unsimulatedsex', 'unsoci', 'unstabl', 'unstopp', 'unsuspect', 'unusu', 'unveil', 'unwit', 'unwittingli', 'upcom', 'upper', 'upperclass', 'upris', 'upset', 'upsid', 'uptight', 'urban', 'urg', 'usa', 'usapresid', 'use', 'usual', 'utah', 'vacat', 'vacation', 'val', 'valentine', 'valkilm', 'valley', 'valu', 'valuabl', 'vampir', 'vampire', 'vampires', 'van', 'vandal', 'vanessa', 'vanessahudgen', 'vanish', 'varieti', 'variou', 'vast', 'vatican', 'vault', 'vega', 'vegas', 'vegetarian', 'veng', 'vengeanc', 'vengeance', 'venic', 'ventur', 'verafarmiga', 'verg', 'veri', 'version', 'verylittledialogu', 'vet', 'veteran', 'vice', 'viciou', 'victim', 'victims', 'victor', 'victori', 'victoria', 'victorian', 'victory', 'video', 'videogam', 'vienna', 'vietnam', 'vietnamveteran', 'vietnamwar', 'view', 'viewer', 'viggomortensen', 'vigilant', 'vike', 'villag', 'village', 'villain', 'vincent', 'vincevaughn', 'vindiesel', 'vineyard', 'violenc', 'violence', 'violent', 'virgin', 'virginia', 'virginiamadsen', 'virginity', 'virtual', 'virtualr', 'viru', 'vision', 'visit', 'visitor', 'visual', 'vlad', 'voic', 'voice', 'volatil', 'volcano', 'volunt', 'vomit', 'von', 'voodoo', 'vorort', 'vow', 'voyag', 'voyeur', 'wa', 'wacki', 'wade', 'wage', 'wager', 'wai', 'wait', 'waiter', 'waitress', 'wake', 'walk', 'walker', 'wall', 'wallet', 'wallstreet', 'walt', 'walter', 'wander', 'wang', 'want', 'war', 'warcrim', 'ward', 'warden', 'warehous', 'warhead', 'warlock', 'warlord', 'warm', 'warn', 'warondrug', 'warren', 'warrenbeatti', 'warrior', 'wars', 'warship', 'warveteran', 'wash', 'washington', 'washingtond', 'wasn', 'wast', 'wasteland', 'watch', 'water', 'wave', 'way', 'ways', 'weak', 'wealth', 'wealthi', 'weapon', 'weapons', 'wear', 'weather', 'web', 'wed', 'wedding', 'week', 'weekend', 'weird', 'welcom', 'went', 'werewolf', 'wesanderson', 'wesbentley', 'wescraven', 'wesley', 'wesleysnip', 'west', 'western', 'whale', 'whatev', 'wheelchair', 'whi', 'whip', 'whisk', 'white', 'whitehous', 'whoopigoldberg', 'wick', 'widow', 'wield', 'wif', 'wife', 'wifehusbandrelationship', 'wild', 'wilder', 'wilderness', 'wildli', 'willemdafo', 'willferrel', 'willi', 'william', 'williamh', 'williamhurt', 'williamshatn', 'willpatton', 'willsmith', 'wilson', 'win', 'wind', 'window', 'wine', 'wing', 'winner', 'winonaryd', 'winter', 'wipe', 'wise', 'wish', 'wit', 'witch', 'witchhunt', 'wizard', 'wolf', 'wolfgangpetersen', 'woman', 'womandirector', 'womanrel', 'women', 'won', 'wonder', 'woo', 'wood', 'woodi', 'woods', 'woodyallen', 'woodyharrelson', 'word', 'work', 'workahol', 'worker', 'workers', 'working', 'world', 'worlds', 'worldwari', 'worldwarii', 'worldwid', 'worri', 'wors', 'worse', 'worship', 'worst', 'worth', 'wound', 'wreak', 'wrestl', 'wrestler', 'wretch', 'wright', 'write', 'writer', 'written', 'wrong', 'wwii', 'wyom', 'xenophobia', 'yacht', 'yakuza', 'yard', 'year', 'yearn', 'years', 'yellow', 'york', 'yorker', 'young', 'youngadult', 'youngboy', 'younger', 'youngest', 'youngster', 'youth', 'yuppi', 'zacefron', 'zachgalifianaki', 'zacksnyd', 'zealand', 'zebra', 'zeu', 'zhangziyi', 'zoe', 'zoesaldana', 'zombi', 'zombies', 'zone', 'zoo', 'zooeydeschanel']\n"
     ]
    }
   ],
   "source": [
    "print(list(cv.get_feature_names_out()))"
   ]
  },
  {
   "cell_type": "code",
   "execution_count": 229,
   "id": "62efbd34-efc6-4bbf-9dd7-fbfce68e5db2",
   "metadata": {},
   "outputs": [],
   "source": [
    "from sklearn.metrics.pairwise import cosine_similarity"
   ]
  },
  {
   "cell_type": "code",
   "execution_count": 234,
   "id": "9554b954-0fa4-499c-b15f-39a2f1f0351e",
   "metadata": {},
   "outputs": [],
   "source": [
    "similarity = cosine_similarity(vectors)"
   ]
  },
  {
   "cell_type": "markdown",
   "id": "17a17a7b-2d80-4834-92a5-a016e3df77a2",
   "metadata": {},
   "source": [
    "- Main Function"
   ]
  },
  {
   "cell_type": "code",
   "execution_count": 2,
   "id": "ff8c66a8-0780-475f-9268-bfbca9387161",
   "metadata": {},
   "outputs": [],
   "source": [
    "def recommend(movie):\n",
    "    movie_index = new_df[new_df['title'] == movie].index[0]\n",
    "    distances = similarity[movie_index]\n",
    "    movies_list = sorted(list(enumerate(distances)), reverse = True, key = lambda x:x[1])[1:6]\n",
    "\n",
    "    for i in movies_list:\n",
    "        print(new_df.iloc[i[0]].title)\n"
   ]
  },
  {
   "cell_type": "code",
   "execution_count": 3,
   "id": "223fb581-e2e7-450f-8be2-7e3e7ff55028",
   "metadata": {},
   "outputs": [
    {
     "ename": "NameError",
     "evalue": "name 'new_df' is not defined",
     "output_type": "error",
     "traceback": [
      "\u001b[1;31m---------------------------------------------------------------------------\u001b[0m",
      "\u001b[1;31mNameError\u001b[0m                                 Traceback (most recent call last)",
      "Cell \u001b[1;32mIn[3], line 1\u001b[0m\n\u001b[1;32m----> 1\u001b[0m recommend(\u001b[38;5;124m'\u001b[39m\u001b[38;5;124mAvatar\u001b[39m\u001b[38;5;124m'\u001b[39m)\n",
      "Cell \u001b[1;32mIn[2], line 2\u001b[0m, in \u001b[0;36mrecommend\u001b[1;34m(movie)\u001b[0m\n\u001b[0;32m      1\u001b[0m \u001b[38;5;28;01mdef\u001b[39;00m \u001b[38;5;21mrecommend\u001b[39m(movie):\n\u001b[1;32m----> 2\u001b[0m     movie_index \u001b[38;5;241m=\u001b[39m new_df[new_df[\u001b[38;5;124m'\u001b[39m\u001b[38;5;124mtitle\u001b[39m\u001b[38;5;124m'\u001b[39m] \u001b[38;5;241m==\u001b[39m movie]\u001b[38;5;241m.\u001b[39mindex[\u001b[38;5;241m0\u001b[39m]\n\u001b[0;32m      3\u001b[0m     distances \u001b[38;5;241m=\u001b[39m similarity[movie_index]\n\u001b[0;32m      4\u001b[0m     movies_list \u001b[38;5;241m=\u001b[39m \u001b[38;5;28msorted\u001b[39m(\u001b[38;5;28mlist\u001b[39m(\u001b[38;5;28menumerate\u001b[39m(distances)), reverse \u001b[38;5;241m=\u001b[39m \u001b[38;5;28;01mTrue\u001b[39;00m, key \u001b[38;5;241m=\u001b[39m \u001b[38;5;28;01mlambda\u001b[39;00m x:x[\u001b[38;5;241m1\u001b[39m])[\u001b[38;5;241m1\u001b[39m:\u001b[38;5;241m6\u001b[39m]\n",
      "\u001b[1;31mNameError\u001b[0m: name 'new_df' is not defined"
     ]
    }
   ],
   "source": [
    "recommend('Avatar')"
   ]
  }
 ],
 "metadata": {
  "kernelspec": {
   "display_name": "Python 3 (ipykernel)",
   "language": "python",
   "name": "python3"
  },
  "language_info": {
   "codemirror_mode": {
    "name": "ipython",
    "version": 3
   },
   "file_extension": ".py",
   "mimetype": "text/x-python",
   "name": "python",
   "nbconvert_exporter": "python",
   "pygments_lexer": "ipython3",
   "version": "3.12.7"
  }
 },
 "nbformat": 4,
 "nbformat_minor": 5
}
